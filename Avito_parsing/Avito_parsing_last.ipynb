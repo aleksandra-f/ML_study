{
 "cells": [
  {
   "cell_type": "markdown",
   "metadata": {},
   "source": [
    "Задачи:\n",
    "\n",
    "1)Собрать данные о продажах квартир в Перми (район, цена,\n",
    "этаж, площадь, кол-во комнат) с сайта avito.\n",
    "\n",
    "2)Найти топ-5 самых дорогих, дешевых квартир.\n",
    "\n",
    "3)Разделить квартиры на группы по районам, кол-во комнату,\n",
    "этажам. Рассчитать кол-во квартир и среднюю цену в\n",
    "каждой группе. Оценить, где самые дорогие/дешевые\n",
    "квартиры.\n",
    "\n",
    "4)Построить гистограмму, ящик с усами для различных групп.\n",
    "Оценить самую популярную площадь, район, кол-во\n",
    "комнат."
   ]
  },
  {
   "cell_type": "code",
   "execution_count": null,
   "metadata": {},
   "outputs": [],
   "source": [
    "!pip install selenium"
   ]
  },
  {
   "cell_type": "code",
   "execution_count": 1,
   "metadata": {},
   "outputs": [],
   "source": [
    "from bs4 import BeautifulSoup\n",
    "from selenium.webdriver import Chrome\n",
    "import pandas as pd\n",
    "import time\n",
    "\n",
    "browser = Chrome('chromedriver.exe')"
   ]
  },
  {
   "cell_type": "code",
   "execution_count": 11,
   "metadata": {},
   "outputs": [],
   "source": [
    "apart = pd.DataFrame(columns=['room','price','district', 'floor', 'square'])"
   ]
  },
  {
   "cell_type": "code",
   "execution_count": 12,
   "metadata": {},
   "outputs": [
    {
     "name": "stdout",
     "output_type": "stream",
     "text": [
      "page  1\n",
      "page  2\n",
      "page  3\n",
      "page  4\n",
      "page  5\n",
      "page  6\n",
      "page  7\n",
      "page  8\n",
      "page  9\n",
      "page  10\n"
     ]
    }
   ],
   "source": [
    "#парсинг данных по квартирам г.Перми с сайта Авито\n",
    "\n",
    "selector = '.iva-item-body-NPl6W'\n",
    "for x in range(1,11):\n",
    "    print('page ', x)\n",
    "    time.sleep(1)\n",
    "    browser.get('https://www.avito.ru/perm/kvartiry/prodam-ASgBAgICAUSSA8YQ?cd=1&p='+str(x))\n",
    "    page = BeautifulSoup(browser.page_source, 'html.parser')\n",
    "    #print(page.select(selector))\n",
    "    for item in page.select(selector):\n",
    "        room, square, floor = str.split(item.select('.title-root-395AQ')[0].text.strip(), ', ')\n",
    "        \n",
    "        price = item.select('.price-text-1HrJ_')[0].text.strip()\n",
    "        #print(price)\n",
    "        if item.select('.geo-georeferences-3or5Q'):\n",
    "            district = item.select('.geo-georeferences-3or5Q')[0].text.strip()\n",
    "        else:\n",
    "            district = None\n",
    "        #print(district)\n",
    "        \n",
    "        item = {'room':room, 'floor':floor, 'square':square, 'price':price, 'district':district}\n",
    "        apart.loc[len(apart)] = item"
   ]
  },
  {
   "cell_type": "code",
   "execution_count": 13,
   "metadata": {},
   "outputs": [
    {
     "data": {
      "text/html": [
       "<div>\n",
       "<style scoped>\n",
       "    .dataframe tbody tr th:only-of-type {\n",
       "        vertical-align: middle;\n",
       "    }\n",
       "\n",
       "    .dataframe tbody tr th {\n",
       "        vertical-align: top;\n",
       "    }\n",
       "\n",
       "    .dataframe thead th {\n",
       "        text-align: right;\n",
       "    }\n",
       "</style>\n",
       "<table border=\"1\" class=\"dataframe\">\n",
       "  <thead>\n",
       "    <tr style=\"text-align: right;\">\n",
       "      <th></th>\n",
       "      <th>room</th>\n",
       "      <th>price</th>\n",
       "      <th>district</th>\n",
       "      <th>floor</th>\n",
       "      <th>square</th>\n",
       "    </tr>\n",
       "  </thead>\n",
       "  <tbody>\n",
       "    <tr>\n",
       "      <th>0</th>\n",
       "      <td>1-к квартира</td>\n",
       "      <td>1 799 900 ₽</td>\n",
       "      <td>р-н Орджоникидзевский</td>\n",
       "      <td>7/9 эт.</td>\n",
       "      <td>34.6 м²</td>\n",
       "    </tr>\n",
       "    <tr>\n",
       "      <th>1</th>\n",
       "      <td>1-к квартира</td>\n",
       "      <td>2 044 110 ₽</td>\n",
       "      <td>р-н Мотовилихинский</td>\n",
       "      <td>6/9 эт.</td>\n",
       "      <td>36.6 м²</td>\n",
       "    </tr>\n",
       "    <tr>\n",
       "      <th>2</th>\n",
       "      <td>1-к квартира</td>\n",
       "      <td>1 721 560 ₽</td>\n",
       "      <td>р-н Мотовилихинский</td>\n",
       "      <td>5/9 эт.</td>\n",
       "      <td>30.9 м²</td>\n",
       "    </tr>\n",
       "    <tr>\n",
       "      <th>3</th>\n",
       "      <td>3-к квартира</td>\n",
       "      <td>6 500 000 ₽</td>\n",
       "      <td>р-н Дзержинский</td>\n",
       "      <td>25/26 эт.</td>\n",
       "      <td>110 м²</td>\n",
       "    </tr>\n",
       "    <tr>\n",
       "      <th>4</th>\n",
       "      <td>2-к квартира</td>\n",
       "      <td>5 300 000 ₽</td>\n",
       "      <td>р-н Дзержинский</td>\n",
       "      <td>16/16 эт.</td>\n",
       "      <td>74.4 м²</td>\n",
       "    </tr>\n",
       "    <tr>\n",
       "      <th>...</th>\n",
       "      <td>...</td>\n",
       "      <td>...</td>\n",
       "      <td>...</td>\n",
       "      <td>...</td>\n",
       "      <td>...</td>\n",
       "    </tr>\n",
       "    <tr>\n",
       "      <th>558</th>\n",
       "      <td>1-к квартира</td>\n",
       "      <td>1 680 000 ₽</td>\n",
       "      <td>р-н Орджоникидзевский</td>\n",
       "      <td>2/5 эт.</td>\n",
       "      <td>34 м²</td>\n",
       "    </tr>\n",
       "    <tr>\n",
       "      <th>559</th>\n",
       "      <td>3-к квартира</td>\n",
       "      <td>2 800 000 ₽</td>\n",
       "      <td>р-н Свердловский</td>\n",
       "      <td>8/9 эт.</td>\n",
       "      <td>68.5 м²</td>\n",
       "    </tr>\n",
       "    <tr>\n",
       "      <th>560</th>\n",
       "      <td>2-к квартира</td>\n",
       "      <td>2 800 000 ₽</td>\n",
       "      <td>р-н Мотовилихинский</td>\n",
       "      <td>2/5 эт.</td>\n",
       "      <td>54 м²</td>\n",
       "    </tr>\n",
       "    <tr>\n",
       "      <th>561</th>\n",
       "      <td>2-к квартира</td>\n",
       "      <td>3 200 000 ₽</td>\n",
       "      <td>р-н Ленинский</td>\n",
       "      <td>3/5 эт.</td>\n",
       "      <td>63.6 м²</td>\n",
       "    </tr>\n",
       "    <tr>\n",
       "      <th>562</th>\n",
       "      <td>3-к квартира</td>\n",
       "      <td>3 100 000 ₽</td>\n",
       "      <td>р-н Свердловский</td>\n",
       "      <td>3/5 эт.</td>\n",
       "      <td>61.8 м²</td>\n",
       "    </tr>\n",
       "  </tbody>\n",
       "</table>\n",
       "<p>563 rows × 5 columns</p>\n",
       "</div>"
      ],
      "text/plain": [
       "             room        price               district      floor   square\n",
       "0    1-к квартира  1 799 900 ₽  р-н Орджоникидзевский    7/9 эт.  34.6 м²\n",
       "1    1-к квартира  2 044 110 ₽    р-н Мотовилихинский    6/9 эт.  36.6 м²\n",
       "2    1-к квартира  1 721 560 ₽    р-н Мотовилихинский    5/9 эт.  30.9 м²\n",
       "3    3-к квартира  6 500 000 ₽        р-н Дзержинский  25/26 эт.   110 м²\n",
       "4    2-к квартира  5 300 000 ₽        р-н Дзержинский  16/16 эт.  74.4 м²\n",
       "..            ...          ...                    ...        ...      ...\n",
       "558  1-к квартира  1 680 000 ₽  р-н Орджоникидзевский    2/5 эт.    34 м²\n",
       "559  3-к квартира  2 800 000 ₽       р-н Свердловский    8/9 эт.  68.5 м²\n",
       "560  2-к квартира  2 800 000 ₽    р-н Мотовилихинский    2/5 эт.    54 м²\n",
       "561  2-к квартира  3 200 000 ₽          р-н Ленинский    3/5 эт.  63.6 м²\n",
       "562  3-к квартира  3 100 000 ₽       р-н Свердловский    3/5 эт.  61.8 м²\n",
       "\n",
       "[563 rows x 5 columns]"
      ]
     },
     "execution_count": 13,
     "metadata": {},
     "output_type": "execute_result"
    }
   ],
   "source": [
    "apart"
   ]
  },
  {
   "cell_type": "code",
   "execution_count": 14,
   "metadata": {},
   "outputs": [
    {
     "data": {
      "text/html": [
       "<div>\n",
       "<style scoped>\n",
       "    .dataframe tbody tr th:only-of-type {\n",
       "        vertical-align: middle;\n",
       "    }\n",
       "\n",
       "    .dataframe tbody tr th {\n",
       "        vertical-align: top;\n",
       "    }\n",
       "\n",
       "    .dataframe thead th {\n",
       "        text-align: right;\n",
       "    }\n",
       "</style>\n",
       "<table border=\"1\" class=\"dataframe\">\n",
       "  <thead>\n",
       "    <tr style=\"text-align: right;\">\n",
       "      <th></th>\n",
       "      <th>room</th>\n",
       "      <th>price</th>\n",
       "      <th>district</th>\n",
       "      <th>floor</th>\n",
       "      <th>square</th>\n",
       "    </tr>\n",
       "  </thead>\n",
       "  <tbody>\n",
       "    <tr>\n",
       "      <th>0</th>\n",
       "      <td>1-к квартира</td>\n",
       "      <td>1799900.0</td>\n",
       "      <td>р-н Орджоникидзевский</td>\n",
       "      <td>7/9 эт.</td>\n",
       "      <td>34.6 м²</td>\n",
       "    </tr>\n",
       "    <tr>\n",
       "      <th>1</th>\n",
       "      <td>1-к квартира</td>\n",
       "      <td>2044110.0</td>\n",
       "      <td>р-н Мотовилихинский</td>\n",
       "      <td>6/9 эт.</td>\n",
       "      <td>36.6 м²</td>\n",
       "    </tr>\n",
       "    <tr>\n",
       "      <th>2</th>\n",
       "      <td>1-к квартира</td>\n",
       "      <td>1721560.0</td>\n",
       "      <td>р-н Мотовилихинский</td>\n",
       "      <td>5/9 эт.</td>\n",
       "      <td>30.9 м²</td>\n",
       "    </tr>\n",
       "    <tr>\n",
       "      <th>3</th>\n",
       "      <td>3-к квартира</td>\n",
       "      <td>6500000.0</td>\n",
       "      <td>р-н Дзержинский</td>\n",
       "      <td>25/26 эт.</td>\n",
       "      <td>110 м²</td>\n",
       "    </tr>\n",
       "    <tr>\n",
       "      <th>4</th>\n",
       "      <td>2-к квартира</td>\n",
       "      <td>5300000.0</td>\n",
       "      <td>р-н Дзержинский</td>\n",
       "      <td>16/16 эт.</td>\n",
       "      <td>74.4 м²</td>\n",
       "    </tr>\n",
       "  </tbody>\n",
       "</table>\n",
       "</div>"
      ],
      "text/plain": [
       "           room      price               district      floor   square\n",
       "0  1-к квартира  1799900.0  р-н Орджоникидзевский    7/9 эт.  34.6 м²\n",
       "1  1-к квартира  2044110.0    р-н Мотовилихинский    6/9 эт.  36.6 м²\n",
       "2  1-к квартира  1721560.0    р-н Мотовилихинский    5/9 эт.  30.9 м²\n",
       "3  3-к квартира  6500000.0        р-н Дзержинский  25/26 эт.   110 м²\n",
       "4  2-к квартира  5300000.0        р-н Дзержинский  16/16 эт.  74.4 м²"
      ]
     },
     "execution_count": 14,
     "metadata": {},
     "output_type": "execute_result"
    }
   ],
   "source": [
    "apart['price'] = apart.price.str.replace(' ', '')\n",
    "apart['price'] = apart.price.str.replace('([^0-9]+)', '')\n",
    "apart['price'] = apart['price'].astype(float)\n",
    "apart.head()"
   ]
  },
  {
   "cell_type": "code",
   "execution_count": 15,
   "metadata": {},
   "outputs": [
    {
     "data": {
      "text/html": [
       "<div>\n",
       "<style scoped>\n",
       "    .dataframe tbody tr th:only-of-type {\n",
       "        vertical-align: middle;\n",
       "    }\n",
       "\n",
       "    .dataframe tbody tr th {\n",
       "        vertical-align: top;\n",
       "    }\n",
       "\n",
       "    .dataframe thead th {\n",
       "        text-align: right;\n",
       "    }\n",
       "</style>\n",
       "<table border=\"1\" class=\"dataframe\">\n",
       "  <thead>\n",
       "    <tr style=\"text-align: right;\">\n",
       "      <th></th>\n",
       "      <th>room</th>\n",
       "      <th>price</th>\n",
       "      <th>district</th>\n",
       "      <th>floor</th>\n",
       "      <th>square</th>\n",
       "    </tr>\n",
       "  </thead>\n",
       "  <tbody>\n",
       "    <tr>\n",
       "      <th>0</th>\n",
       "      <td>1-к квартира</td>\n",
       "      <td>1799900.0</td>\n",
       "      <td>р-н Орджоникидзевский</td>\n",
       "      <td>7/9 эт.</td>\n",
       "      <td>34.6</td>\n",
       "    </tr>\n",
       "    <tr>\n",
       "      <th>1</th>\n",
       "      <td>1-к квартира</td>\n",
       "      <td>2044110.0</td>\n",
       "      <td>р-н Мотовилихинский</td>\n",
       "      <td>6/9 эт.</td>\n",
       "      <td>36.6</td>\n",
       "    </tr>\n",
       "    <tr>\n",
       "      <th>2</th>\n",
       "      <td>1-к квартира</td>\n",
       "      <td>1721560.0</td>\n",
       "      <td>р-н Мотовилихинский</td>\n",
       "      <td>5/9 эт.</td>\n",
       "      <td>30.9</td>\n",
       "    </tr>\n",
       "    <tr>\n",
       "      <th>3</th>\n",
       "      <td>3-к квартира</td>\n",
       "      <td>6500000.0</td>\n",
       "      <td>р-н Дзержинский</td>\n",
       "      <td>25/26 эт.</td>\n",
       "      <td>110.0</td>\n",
       "    </tr>\n",
       "    <tr>\n",
       "      <th>4</th>\n",
       "      <td>2-к квартира</td>\n",
       "      <td>5300000.0</td>\n",
       "      <td>р-н Дзержинский</td>\n",
       "      <td>16/16 эт.</td>\n",
       "      <td>74.4</td>\n",
       "    </tr>\n",
       "  </tbody>\n",
       "</table>\n",
       "</div>"
      ],
      "text/plain": [
       "           room      price               district      floor  square\n",
       "0  1-к квартира  1799900.0  р-н Орджоникидзевский    7/9 эт.    34.6\n",
       "1  1-к квартира  2044110.0    р-н Мотовилихинский    6/9 эт.    36.6\n",
       "2  1-к квартира  1721560.0    р-н Мотовилихинский    5/9 эт.    30.9\n",
       "3  3-к квартира  6500000.0        р-н Дзержинский  25/26 эт.   110.0\n",
       "4  2-к квартира  5300000.0        р-н Дзержинский  16/16 эт.    74.4"
      ]
     },
     "execution_count": 15,
     "metadata": {},
     "output_type": "execute_result"
    }
   ],
   "source": [
    "apart['square'] = apart.square.str.replace(' м²', '')\n",
    "apart['square'] = apart.square.str.replace(' ', '')\n",
    "apart['square'] = apart['square'].astype(float)\n",
    "\n",
    "apart.head()"
   ]
  },
  {
   "cell_type": "code",
   "execution_count": 16,
   "metadata": {},
   "outputs": [],
   "source": [
    "apart = apart.drop(index=apart[apart['district'].isnull()].index)"
   ]
  },
  {
   "cell_type": "code",
   "execution_count": 17,
   "metadata": {},
   "outputs": [
    {
     "data": {
      "text/plain": [
       "(557, 5)"
      ]
     },
     "execution_count": 17,
     "metadata": {},
     "output_type": "execute_result"
    }
   ],
   "source": [
    "apart.shape"
   ]
  },
  {
   "cell_type": "code",
   "execution_count": 18,
   "metadata": {},
   "outputs": [],
   "source": [
    "apart.to_csv('avito.csv', index=False)"
   ]
  },
  {
   "cell_type": "code",
   "execution_count": 19,
   "metadata": {},
   "outputs": [],
   "source": [
    "apart = pd.read_csv('avito.csv')"
   ]
  },
  {
   "cell_type": "code",
   "execution_count": 20,
   "metadata": {},
   "outputs": [
    {
     "data": {
      "text/html": [
       "<div>\n",
       "<style scoped>\n",
       "    .dataframe tbody tr th:only-of-type {\n",
       "        vertical-align: middle;\n",
       "    }\n",
       "\n",
       "    .dataframe tbody tr th {\n",
       "        vertical-align: top;\n",
       "    }\n",
       "\n",
       "    .dataframe thead th {\n",
       "        text-align: right;\n",
       "    }\n",
       "</style>\n",
       "<table border=\"1\" class=\"dataframe\">\n",
       "  <thead>\n",
       "    <tr style=\"text-align: right;\">\n",
       "      <th></th>\n",
       "      <th>room</th>\n",
       "      <th>price</th>\n",
       "      <th>district</th>\n",
       "      <th>floor</th>\n",
       "      <th>square</th>\n",
       "    </tr>\n",
       "  </thead>\n",
       "  <tbody>\n",
       "    <tr>\n",
       "      <th>0</th>\n",
       "      <td>1-к квартира</td>\n",
       "      <td>1799900.0</td>\n",
       "      <td>р-н Орджоникидзевский</td>\n",
       "      <td>7/9 эт.</td>\n",
       "      <td>34.6</td>\n",
       "    </tr>\n",
       "    <tr>\n",
       "      <th>1</th>\n",
       "      <td>1-к квартира</td>\n",
       "      <td>2044110.0</td>\n",
       "      <td>р-н Мотовилихинский</td>\n",
       "      <td>6/9 эт.</td>\n",
       "      <td>36.6</td>\n",
       "    </tr>\n",
       "    <tr>\n",
       "      <th>2</th>\n",
       "      <td>1-к квартира</td>\n",
       "      <td>1721560.0</td>\n",
       "      <td>р-н Мотовилихинский</td>\n",
       "      <td>5/9 эт.</td>\n",
       "      <td>30.9</td>\n",
       "    </tr>\n",
       "    <tr>\n",
       "      <th>3</th>\n",
       "      <td>3-к квартира</td>\n",
       "      <td>6500000.0</td>\n",
       "      <td>р-н Дзержинский</td>\n",
       "      <td>25/26 эт.</td>\n",
       "      <td>110.0</td>\n",
       "    </tr>\n",
       "    <tr>\n",
       "      <th>4</th>\n",
       "      <td>2-к квартира</td>\n",
       "      <td>5300000.0</td>\n",
       "      <td>р-н Дзержинский</td>\n",
       "      <td>16/16 эт.</td>\n",
       "      <td>74.4</td>\n",
       "    </tr>\n",
       "    <tr>\n",
       "      <th>...</th>\n",
       "      <td>...</td>\n",
       "      <td>...</td>\n",
       "      <td>...</td>\n",
       "      <td>...</td>\n",
       "      <td>...</td>\n",
       "    </tr>\n",
       "    <tr>\n",
       "      <th>552</th>\n",
       "      <td>1-к квартира</td>\n",
       "      <td>1680000.0</td>\n",
       "      <td>р-н Орджоникидзевский</td>\n",
       "      <td>2/5 эт.</td>\n",
       "      <td>34.0</td>\n",
       "    </tr>\n",
       "    <tr>\n",
       "      <th>553</th>\n",
       "      <td>3-к квартира</td>\n",
       "      <td>2800000.0</td>\n",
       "      <td>р-н Свердловский</td>\n",
       "      <td>8/9 эт.</td>\n",
       "      <td>68.5</td>\n",
       "    </tr>\n",
       "    <tr>\n",
       "      <th>554</th>\n",
       "      <td>2-к квартира</td>\n",
       "      <td>2800000.0</td>\n",
       "      <td>р-н Мотовилихинский</td>\n",
       "      <td>2/5 эт.</td>\n",
       "      <td>54.0</td>\n",
       "    </tr>\n",
       "    <tr>\n",
       "      <th>555</th>\n",
       "      <td>2-к квартира</td>\n",
       "      <td>3200000.0</td>\n",
       "      <td>р-н Ленинский</td>\n",
       "      <td>3/5 эт.</td>\n",
       "      <td>63.6</td>\n",
       "    </tr>\n",
       "    <tr>\n",
       "      <th>556</th>\n",
       "      <td>3-к квартира</td>\n",
       "      <td>3100000.0</td>\n",
       "      <td>р-н Свердловский</td>\n",
       "      <td>3/5 эт.</td>\n",
       "      <td>61.8</td>\n",
       "    </tr>\n",
       "  </tbody>\n",
       "</table>\n",
       "<p>557 rows × 5 columns</p>\n",
       "</div>"
      ],
      "text/plain": [
       "             room      price               district      floor  square\n",
       "0    1-к квартира  1799900.0  р-н Орджоникидзевский    7/9 эт.    34.6\n",
       "1    1-к квартира  2044110.0    р-н Мотовилихинский    6/9 эт.    36.6\n",
       "2    1-к квартира  1721560.0    р-н Мотовилихинский    5/9 эт.    30.9\n",
       "3    3-к квартира  6500000.0        р-н Дзержинский  25/26 эт.   110.0\n",
       "4    2-к квартира  5300000.0        р-н Дзержинский  16/16 эт.    74.4\n",
       "..            ...        ...                    ...        ...     ...\n",
       "552  1-к квартира  1680000.0  р-н Орджоникидзевский    2/5 эт.    34.0\n",
       "553  3-к квартира  2800000.0       р-н Свердловский    8/9 эт.    68.5\n",
       "554  2-к квартира  2800000.0    р-н Мотовилихинский    2/5 эт.    54.0\n",
       "555  2-к квартира  3200000.0          р-н Ленинский    3/5 эт.    63.6\n",
       "556  3-к квартира  3100000.0       р-н Свердловский    3/5 эт.    61.8\n",
       "\n",
       "[557 rows x 5 columns]"
      ]
     },
     "execution_count": 20,
     "metadata": {},
     "output_type": "execute_result"
    }
   ],
   "source": [
    "apart"
   ]
  },
  {
   "cell_type": "code",
   "execution_count": 21,
   "metadata": {},
   "outputs": [
    {
     "data": {
      "text/html": [
       "<div>\n",
       "<style scoped>\n",
       "    .dataframe tbody tr th:only-of-type {\n",
       "        vertical-align: middle;\n",
       "    }\n",
       "\n",
       "    .dataframe tbody tr th {\n",
       "        vertical-align: top;\n",
       "    }\n",
       "\n",
       "    .dataframe thead th {\n",
       "        text-align: right;\n",
       "    }\n",
       "</style>\n",
       "<table border=\"1\" class=\"dataframe\">\n",
       "  <thead>\n",
       "    <tr style=\"text-align: right;\">\n",
       "      <th></th>\n",
       "      <th>room</th>\n",
       "      <th>price</th>\n",
       "      <th>district</th>\n",
       "      <th>floor</th>\n",
       "      <th>square</th>\n",
       "      <th>number of storeys</th>\n",
       "    </tr>\n",
       "  </thead>\n",
       "  <tbody>\n",
       "    <tr>\n",
       "      <th>0</th>\n",
       "      <td>1-к квартира</td>\n",
       "      <td>1799900.0</td>\n",
       "      <td>р-н Орджоникидзевский</td>\n",
       "      <td>7</td>\n",
       "      <td>34.6</td>\n",
       "      <td>9</td>\n",
       "    </tr>\n",
       "    <tr>\n",
       "      <th>1</th>\n",
       "      <td>1-к квартира</td>\n",
       "      <td>2044110.0</td>\n",
       "      <td>р-н Мотовилихинский</td>\n",
       "      <td>6</td>\n",
       "      <td>36.6</td>\n",
       "      <td>9</td>\n",
       "    </tr>\n",
       "    <tr>\n",
       "      <th>2</th>\n",
       "      <td>1-к квартира</td>\n",
       "      <td>1721560.0</td>\n",
       "      <td>р-н Мотовилихинский</td>\n",
       "      <td>5</td>\n",
       "      <td>30.9</td>\n",
       "      <td>9</td>\n",
       "    </tr>\n",
       "    <tr>\n",
       "      <th>3</th>\n",
       "      <td>3-к квартира</td>\n",
       "      <td>6500000.0</td>\n",
       "      <td>р-н Дзержинский</td>\n",
       "      <td>25</td>\n",
       "      <td>110.0</td>\n",
       "      <td>26</td>\n",
       "    </tr>\n",
       "    <tr>\n",
       "      <th>4</th>\n",
       "      <td>2-к квартира</td>\n",
       "      <td>5300000.0</td>\n",
       "      <td>р-н Дзержинский</td>\n",
       "      <td>16</td>\n",
       "      <td>74.4</td>\n",
       "      <td>16</td>\n",
       "    </tr>\n",
       "    <tr>\n",
       "      <th>...</th>\n",
       "      <td>...</td>\n",
       "      <td>...</td>\n",
       "      <td>...</td>\n",
       "      <td>...</td>\n",
       "      <td>...</td>\n",
       "      <td>...</td>\n",
       "    </tr>\n",
       "    <tr>\n",
       "      <th>552</th>\n",
       "      <td>1-к квартира</td>\n",
       "      <td>1680000.0</td>\n",
       "      <td>р-н Орджоникидзевский</td>\n",
       "      <td>2</td>\n",
       "      <td>34.0</td>\n",
       "      <td>5</td>\n",
       "    </tr>\n",
       "    <tr>\n",
       "      <th>553</th>\n",
       "      <td>3-к квартира</td>\n",
       "      <td>2800000.0</td>\n",
       "      <td>р-н Свердловский</td>\n",
       "      <td>8</td>\n",
       "      <td>68.5</td>\n",
       "      <td>9</td>\n",
       "    </tr>\n",
       "    <tr>\n",
       "      <th>554</th>\n",
       "      <td>2-к квартира</td>\n",
       "      <td>2800000.0</td>\n",
       "      <td>р-н Мотовилихинский</td>\n",
       "      <td>2</td>\n",
       "      <td>54.0</td>\n",
       "      <td>5</td>\n",
       "    </tr>\n",
       "    <tr>\n",
       "      <th>555</th>\n",
       "      <td>2-к квартира</td>\n",
       "      <td>3200000.0</td>\n",
       "      <td>р-н Ленинский</td>\n",
       "      <td>3</td>\n",
       "      <td>63.6</td>\n",
       "      <td>5</td>\n",
       "    </tr>\n",
       "    <tr>\n",
       "      <th>556</th>\n",
       "      <td>3-к квартира</td>\n",
       "      <td>3100000.0</td>\n",
       "      <td>р-н Свердловский</td>\n",
       "      <td>3</td>\n",
       "      <td>61.8</td>\n",
       "      <td>5</td>\n",
       "    </tr>\n",
       "  </tbody>\n",
       "</table>\n",
       "<p>557 rows × 6 columns</p>\n",
       "</div>"
      ],
      "text/plain": [
       "             room      price               district  floor  square  \\\n",
       "0    1-к квартира  1799900.0  р-н Орджоникидзевский      7    34.6   \n",
       "1    1-к квартира  2044110.0    р-н Мотовилихинский      6    36.6   \n",
       "2    1-к квартира  1721560.0    р-н Мотовилихинский      5    30.9   \n",
       "3    3-к квартира  6500000.0        р-н Дзержинский     25   110.0   \n",
       "4    2-к квартира  5300000.0        р-н Дзержинский     16    74.4   \n",
       "..            ...        ...                    ...    ...     ...   \n",
       "552  1-к квартира  1680000.0  р-н Орджоникидзевский      2    34.0   \n",
       "553  3-к квартира  2800000.0       р-н Свердловский      8    68.5   \n",
       "554  2-к квартира  2800000.0    р-н Мотовилихинский      2    54.0   \n",
       "555  2-к квартира  3200000.0          р-н Ленинский      3    63.6   \n",
       "556  3-к квартира  3100000.0       р-н Свердловский      3    61.8   \n",
       "\n",
       "     number of storeys  \n",
       "0                    9  \n",
       "1                    9  \n",
       "2                    9  \n",
       "3                   26  \n",
       "4                   16  \n",
       "..                 ...  \n",
       "552                  5  \n",
       "553                  9  \n",
       "554                  5  \n",
       "555                  5  \n",
       "556                  5  \n",
       "\n",
       "[557 rows x 6 columns]"
      ]
     },
     "execution_count": 21,
     "metadata": {},
     "output_type": "execute_result"
    }
   ],
   "source": [
    "apart['floor'] = apart['floor'].str.replace(' эт.', '')\n",
    "floor = apart['floor'].str.split('/', expand=True)\n",
    "apart['floor'] = floor.loc[:,0].astype(int)\n",
    "apart['number of storeys'] = floor.loc[:,1].astype(int)\n",
    "apart"
   ]
  },
  {
   "cell_type": "code",
   "execution_count": 22,
   "metadata": {},
   "outputs": [
    {
     "data": {
      "text/html": [
       "<div>\n",
       "<style scoped>\n",
       "    .dataframe tbody tr th:only-of-type {\n",
       "        vertical-align: middle;\n",
       "    }\n",
       "\n",
       "    .dataframe tbody tr th {\n",
       "        vertical-align: top;\n",
       "    }\n",
       "\n",
       "    .dataframe thead th {\n",
       "        text-align: right;\n",
       "    }\n",
       "</style>\n",
       "<table border=\"1\" class=\"dataframe\">\n",
       "  <thead>\n",
       "    <tr style=\"text-align: right;\">\n",
       "      <th></th>\n",
       "      <th>room</th>\n",
       "      <th>price</th>\n",
       "      <th>district</th>\n",
       "      <th>floor</th>\n",
       "      <th>square</th>\n",
       "      <th>number of storeys</th>\n",
       "    </tr>\n",
       "  </thead>\n",
       "  <tbody>\n",
       "    <tr>\n",
       "      <th>319</th>\n",
       "      <td>1-к квартира</td>\n",
       "      <td>555000.0</td>\n",
       "      <td>р-н Свердловский</td>\n",
       "      <td>1</td>\n",
       "      <td>17.0</td>\n",
       "      <td>5</td>\n",
       "    </tr>\n",
       "    <tr>\n",
       "      <th>257</th>\n",
       "      <td>1-к квартира</td>\n",
       "      <td>680000.0</td>\n",
       "      <td>р-н Кировский</td>\n",
       "      <td>1</td>\n",
       "      <td>14.0</td>\n",
       "      <td>5</td>\n",
       "    </tr>\n",
       "    <tr>\n",
       "      <th>538</th>\n",
       "      <td>Квартира-студия</td>\n",
       "      <td>700000.0</td>\n",
       "      <td>р-н Орджоникидзевский</td>\n",
       "      <td>3</td>\n",
       "      <td>13.0</td>\n",
       "      <td>5</td>\n",
       "    </tr>\n",
       "    <tr>\n",
       "      <th>69</th>\n",
       "      <td>1-к квартира</td>\n",
       "      <td>740000.0</td>\n",
       "      <td>р-н Свердловский</td>\n",
       "      <td>1</td>\n",
       "      <td>13.0</td>\n",
       "      <td>9</td>\n",
       "    </tr>\n",
       "    <tr>\n",
       "      <th>96</th>\n",
       "      <td>1-к квартира</td>\n",
       "      <td>750000.0</td>\n",
       "      <td>р-н Орджоникидзевский</td>\n",
       "      <td>1</td>\n",
       "      <td>18.5</td>\n",
       "      <td>5</td>\n",
       "    </tr>\n",
       "  </tbody>\n",
       "</table>\n",
       "</div>"
      ],
      "text/plain": [
       "                room     price               district  floor  square  \\\n",
       "319     1-к квартира  555000.0       р-н Свердловский      1    17.0   \n",
       "257     1-к квартира  680000.0          р-н Кировский      1    14.0   \n",
       "538  Квартира-студия  700000.0  р-н Орджоникидзевский      3    13.0   \n",
       "69      1-к квартира  740000.0       р-н Свердловский      1    13.0   \n",
       "96      1-к квартира  750000.0  р-н Орджоникидзевский      1    18.5   \n",
       "\n",
       "     number of storeys  \n",
       "319                  5  \n",
       "257                  5  \n",
       "538                  5  \n",
       "69                   9  \n",
       "96                   5  "
      ]
     },
     "execution_count": 22,
     "metadata": {},
     "output_type": "execute_result"
    }
   ],
   "source": [
    "# топ-5 самых дешевых квартир\n",
    "\n",
    "apart.sort_values(by='price').head(5)"
   ]
  },
  {
   "cell_type": "code",
   "execution_count": 23,
   "metadata": {},
   "outputs": [
    {
     "data": {
      "text/html": [
       "<div>\n",
       "<style scoped>\n",
       "    .dataframe tbody tr th:only-of-type {\n",
       "        vertical-align: middle;\n",
       "    }\n",
       "\n",
       "    .dataframe tbody tr th {\n",
       "        vertical-align: top;\n",
       "    }\n",
       "\n",
       "    .dataframe thead th {\n",
       "        text-align: right;\n",
       "    }\n",
       "</style>\n",
       "<table border=\"1\" class=\"dataframe\">\n",
       "  <thead>\n",
       "    <tr style=\"text-align: right;\">\n",
       "      <th></th>\n",
       "      <th>room</th>\n",
       "      <th>price</th>\n",
       "      <th>district</th>\n",
       "      <th>floor</th>\n",
       "      <th>square</th>\n",
       "      <th>number of storeys</th>\n",
       "    </tr>\n",
       "  </thead>\n",
       "  <tbody>\n",
       "    <tr>\n",
       "      <th>197</th>\n",
       "      <td>5-к квартира</td>\n",
       "      <td>22000000.0</td>\n",
       "      <td>р-н Свердловский</td>\n",
       "      <td>6</td>\n",
       "      <td>200.0</td>\n",
       "      <td>6</td>\n",
       "    </tr>\n",
       "    <tr>\n",
       "      <th>87</th>\n",
       "      <td>Своб. планировка</td>\n",
       "      <td>16600000.0</td>\n",
       "      <td>р-н Ленинский</td>\n",
       "      <td>7</td>\n",
       "      <td>277.1</td>\n",
       "      <td>8</td>\n",
       "    </tr>\n",
       "    <tr>\n",
       "      <th>245</th>\n",
       "      <td>6-к квартира</td>\n",
       "      <td>16500000.0</td>\n",
       "      <td>р-н Ленинский</td>\n",
       "      <td>5</td>\n",
       "      <td>175.0</td>\n",
       "      <td>12</td>\n",
       "    </tr>\n",
       "    <tr>\n",
       "      <th>97</th>\n",
       "      <td>4-к квартира</td>\n",
       "      <td>15000000.0</td>\n",
       "      <td>р-н Индустриальный</td>\n",
       "      <td>14</td>\n",
       "      <td>138.0</td>\n",
       "      <td>14</td>\n",
       "    </tr>\n",
       "    <tr>\n",
       "      <th>503</th>\n",
       "      <td>4-к квартира</td>\n",
       "      <td>14950000.0</td>\n",
       "      <td>р-н Ленинский</td>\n",
       "      <td>7</td>\n",
       "      <td>149.0</td>\n",
       "      <td>18</td>\n",
       "    </tr>\n",
       "  </tbody>\n",
       "</table>\n",
       "</div>"
      ],
      "text/plain": [
       "                 room       price            district  floor  square  \\\n",
       "197      5-к квартира  22000000.0    р-н Свердловский      6   200.0   \n",
       "87   Своб. планировка  16600000.0       р-н Ленинский      7   277.1   \n",
       "245      6-к квартира  16500000.0       р-н Ленинский      5   175.0   \n",
       "97       4-к квартира  15000000.0  р-н Индустриальный     14   138.0   \n",
       "503      4-к квартира  14950000.0       р-н Ленинский      7   149.0   \n",
       "\n",
       "     number of storeys  \n",
       "197                  6  \n",
       "87                   8  \n",
       "245                 12  \n",
       "97                  14  \n",
       "503                 18  "
      ]
     },
     "execution_count": 23,
     "metadata": {},
     "output_type": "execute_result"
    }
   ],
   "source": [
    "# топ-5 самых дорогих квартир\n",
    "\n",
    "apart.sort_values(by='price', ascending=False).head(5)"
   ]
  },
  {
   "cell_type": "code",
   "execution_count": 24,
   "metadata": {},
   "outputs": [
    {
     "data": {
      "text/html": [
       "<div>\n",
       "<style scoped>\n",
       "    .dataframe tbody tr th:only-of-type {\n",
       "        vertical-align: middle;\n",
       "    }\n",
       "\n",
       "    .dataframe tbody tr th {\n",
       "        vertical-align: top;\n",
       "    }\n",
       "\n",
       "    .dataframe thead th {\n",
       "        text-align: right;\n",
       "    }\n",
       "</style>\n",
       "<table border=\"1\" class=\"dataframe\">\n",
       "  <thead>\n",
       "    <tr style=\"text-align: right;\">\n",
       "      <th></th>\n",
       "      <th>count</th>\n",
       "      <th>mean_price</th>\n",
       "    </tr>\n",
       "    <tr>\n",
       "      <th>district</th>\n",
       "      <th></th>\n",
       "      <th></th>\n",
       "    </tr>\n",
       "  </thead>\n",
       "  <tbody>\n",
       "    <tr>\n",
       "      <th>р-н Ленинский</th>\n",
       "      <td>44</td>\n",
       "      <td>6170654.0</td>\n",
       "    </tr>\n",
       "    <tr>\n",
       "      <th>р-н Свердловский</th>\n",
       "      <td>132</td>\n",
       "      <td>4199888.0</td>\n",
       "    </tr>\n",
       "    <tr>\n",
       "      <th>р-н Дзержинский</th>\n",
       "      <td>78</td>\n",
       "      <td>3852595.0</td>\n",
       "    </tr>\n",
       "    <tr>\n",
       "      <th>р-н Индустриальный</th>\n",
       "      <td>83</td>\n",
       "      <td>3582504.0</td>\n",
       "    </tr>\n",
       "    <tr>\n",
       "      <th>Пермь</th>\n",
       "      <td>3</td>\n",
       "      <td>3266667.0</td>\n",
       "    </tr>\n",
       "    <tr>\n",
       "      <th>р-н Мотовилихинский</th>\n",
       "      <td>104</td>\n",
       "      <td>3069802.0</td>\n",
       "    </tr>\n",
       "    <tr>\n",
       "      <th>р-н Кировский</th>\n",
       "      <td>61</td>\n",
       "      <td>2522903.0</td>\n",
       "    </tr>\n",
       "    <tr>\n",
       "      <th>р-н Орджоникидзевский</th>\n",
       "      <td>52</td>\n",
       "      <td>2276554.0</td>\n",
       "    </tr>\n",
       "  </tbody>\n",
       "</table>\n",
       "</div>"
      ],
      "text/plain": [
       "                       count  mean_price\n",
       "district                                \n",
       "р-н Ленинский             44   6170654.0\n",
       "р-н Свердловский         132   4199888.0\n",
       "р-н Дзержинский           78   3852595.0\n",
       "р-н Индустриальный        83   3582504.0\n",
       "Пермь                      3   3266667.0\n",
       "р-н Мотовилихинский      104   3069802.0\n",
       "р-н Кировский             61   2522903.0\n",
       "р-н Орджоникидзевский     52   2276554.0"
      ]
     },
     "execution_count": 24,
     "metadata": {},
     "output_type": "execute_result"
    }
   ],
   "source": [
    "#Разделить квартиры на группы по районам. \n",
    "# Рассчитать кол-во квартир и среднюю цену в каждой группе. \n",
    "# Оценить, где самые дорогие/дешевые квартиры.\n",
    "\n",
    "apart.groupby('district') \\\n",
    "    .agg({'room': 'count', 'price':'mean'}) \\\n",
    "    .sort_values(by='price', ascending=False) \\\n",
    "    .rename(columns={'room':'count', 'price':'mean_price'}).round(0)"
   ]
  },
  {
   "cell_type": "code",
   "execution_count": 25,
   "metadata": {},
   "outputs": [
    {
     "data": {
      "text/html": [
       "<div>\n",
       "<style scoped>\n",
       "    .dataframe tbody tr th:only-of-type {\n",
       "        vertical-align: middle;\n",
       "    }\n",
       "\n",
       "    .dataframe tbody tr th {\n",
       "        vertical-align: top;\n",
       "    }\n",
       "\n",
       "    .dataframe thead th {\n",
       "        text-align: right;\n",
       "    }\n",
       "</style>\n",
       "<table border=\"1\" class=\"dataframe\">\n",
       "  <thead>\n",
       "    <tr style=\"text-align: right;\">\n",
       "      <th></th>\n",
       "      <th>count</th>\n",
       "      <th>mean_price</th>\n",
       "    </tr>\n",
       "    <tr>\n",
       "      <th>room</th>\n",
       "      <th></th>\n",
       "      <th></th>\n",
       "    </tr>\n",
       "  </thead>\n",
       "  <tbody>\n",
       "    <tr>\n",
       "      <th>6-к квартира</th>\n",
       "      <td>1</td>\n",
       "      <td>16500000.0</td>\n",
       "    </tr>\n",
       "    <tr>\n",
       "      <th>5-к квартира</th>\n",
       "      <td>3</td>\n",
       "      <td>12400000.0</td>\n",
       "    </tr>\n",
       "    <tr>\n",
       "      <th>Своб. планировка</th>\n",
       "      <td>9</td>\n",
       "      <td>8369000.0</td>\n",
       "    </tr>\n",
       "    <tr>\n",
       "      <th>3-к апартаменты</th>\n",
       "      <td>2</td>\n",
       "      <td>7990000.0</td>\n",
       "    </tr>\n",
       "    <tr>\n",
       "      <th>4-к квартира</th>\n",
       "      <td>29</td>\n",
       "      <td>6822440.0</td>\n",
       "    </tr>\n",
       "    <tr>\n",
       "      <th>3-к квартира</th>\n",
       "      <td>145</td>\n",
       "      <td>4406076.0</td>\n",
       "    </tr>\n",
       "    <tr>\n",
       "      <th>2-к квартира</th>\n",
       "      <td>192</td>\n",
       "      <td>3277328.0</td>\n",
       "    </tr>\n",
       "    <tr>\n",
       "      <th>1-к квартира</th>\n",
       "      <td>148</td>\n",
       "      <td>2401600.0</td>\n",
       "    </tr>\n",
       "    <tr>\n",
       "      <th>Квартира-студия</th>\n",
       "      <td>24</td>\n",
       "      <td>2126956.0</td>\n",
       "    </tr>\n",
       "    <tr>\n",
       "      <th>Студия</th>\n",
       "      <td>1</td>\n",
       "      <td>2100000.0</td>\n",
       "    </tr>\n",
       "    <tr>\n",
       "      <th>Апартаменты-студия</th>\n",
       "      <td>3</td>\n",
       "      <td>1839333.0</td>\n",
       "    </tr>\n",
       "  </tbody>\n",
       "</table>\n",
       "</div>"
      ],
      "text/plain": [
       "                    count  mean_price\n",
       "room                                 \n",
       "6-к квартира            1  16500000.0\n",
       "5-к квартира            3  12400000.0\n",
       "Своб. планировка        9   8369000.0\n",
       "3-к апартаменты         2   7990000.0\n",
       "4-к квартира           29   6822440.0\n",
       "3-к квартира          145   4406076.0\n",
       "2-к квартира          192   3277328.0\n",
       "1-к квартира          148   2401600.0\n",
       "Квартира-студия        24   2126956.0\n",
       "Студия                  1   2100000.0\n",
       "Апартаменты-студия      3   1839333.0"
      ]
     },
     "execution_count": 25,
     "metadata": {},
     "output_type": "execute_result"
    }
   ],
   "source": [
    "# Разделить квартиры на группы по кол-ву комнат. \n",
    "# Рассчитать кол-во квартир и среднюю цену в каждой группе. \n",
    "# Оценить, где самые дорогие/дешевые квартиры.\n",
    "\n",
    "apart.groupby('room') \\\n",
    "    .agg({'room': 'count', 'price':'mean'}) \\\n",
    "    .sort_values(by='price', ascending=False) \\\n",
    "    .rename(columns={'room':'count', 'price':'mean_price'}).round(0)"
   ]
  },
  {
   "cell_type": "code",
   "execution_count": 26,
   "metadata": {},
   "outputs": [
    {
     "data": {
      "text/html": [
       "<div>\n",
       "<style scoped>\n",
       "    .dataframe tbody tr th:only-of-type {\n",
       "        vertical-align: middle;\n",
       "    }\n",
       "\n",
       "    .dataframe tbody tr th {\n",
       "        vertical-align: top;\n",
       "    }\n",
       "\n",
       "    .dataframe thead th {\n",
       "        text-align: right;\n",
       "    }\n",
       "</style>\n",
       "<table border=\"1\" class=\"dataframe\">\n",
       "  <thead>\n",
       "    <tr style=\"text-align: right;\">\n",
       "      <th></th>\n",
       "      <th>count</th>\n",
       "      <th>mean_price</th>\n",
       "    </tr>\n",
       "    <tr>\n",
       "      <th>floor</th>\n",
       "      <th></th>\n",
       "      <th></th>\n",
       "    </tr>\n",
       "  </thead>\n",
       "  <tbody>\n",
       "    <tr>\n",
       "      <th>19</th>\n",
       "      <td>3</td>\n",
       "      <td>8883333.0</td>\n",
       "    </tr>\n",
       "    <tr>\n",
       "      <th>20</th>\n",
       "      <td>3</td>\n",
       "      <td>7503333.0</td>\n",
       "    </tr>\n",
       "    <tr>\n",
       "      <th>22</th>\n",
       "      <td>2</td>\n",
       "      <td>6604500.0</td>\n",
       "    </tr>\n",
       "    <tr>\n",
       "      <th>25</th>\n",
       "      <td>2</td>\n",
       "      <td>6500000.0</td>\n",
       "    </tr>\n",
       "    <tr>\n",
       "      <th>24</th>\n",
       "      <td>2</td>\n",
       "      <td>5855000.0</td>\n",
       "    </tr>\n",
       "    <tr>\n",
       "      <th>14</th>\n",
       "      <td>16</td>\n",
       "      <td>5118381.0</td>\n",
       "    </tr>\n",
       "    <tr>\n",
       "      <th>13</th>\n",
       "      <td>11</td>\n",
       "      <td>5091447.0</td>\n",
       "    </tr>\n",
       "    <tr>\n",
       "      <th>11</th>\n",
       "      <td>10</td>\n",
       "      <td>4946305.0</td>\n",
       "    </tr>\n",
       "    <tr>\n",
       "      <th>23</th>\n",
       "      <td>1</td>\n",
       "      <td>4900000.0</td>\n",
       "    </tr>\n",
       "    <tr>\n",
       "      <th>12</th>\n",
       "      <td>16</td>\n",
       "      <td>4572611.0</td>\n",
       "    </tr>\n",
       "    <tr>\n",
       "      <th>6</th>\n",
       "      <td>34</td>\n",
       "      <td>4440595.0</td>\n",
       "    </tr>\n",
       "    <tr>\n",
       "      <th>8</th>\n",
       "      <td>27</td>\n",
       "      <td>4396305.0</td>\n",
       "    </tr>\n",
       "    <tr>\n",
       "      <th>7</th>\n",
       "      <td>29</td>\n",
       "      <td>4389411.0</td>\n",
       "    </tr>\n",
       "    <tr>\n",
       "      <th>17</th>\n",
       "      <td>1</td>\n",
       "      <td>4350000.0</td>\n",
       "    </tr>\n",
       "    <tr>\n",
       "      <th>16</th>\n",
       "      <td>19</td>\n",
       "      <td>4068043.0</td>\n",
       "    </tr>\n",
       "    <tr>\n",
       "      <th>15</th>\n",
       "      <td>9</td>\n",
       "      <td>3894778.0</td>\n",
       "    </tr>\n",
       "    <tr>\n",
       "      <th>4</th>\n",
       "      <td>58</td>\n",
       "      <td>3484182.0</td>\n",
       "    </tr>\n",
       "    <tr>\n",
       "      <th>2</th>\n",
       "      <td>82</td>\n",
       "      <td>3430697.0</td>\n",
       "    </tr>\n",
       "    <tr>\n",
       "      <th>5</th>\n",
       "      <td>67</td>\n",
       "      <td>3117175.0</td>\n",
       "    </tr>\n",
       "    <tr>\n",
       "      <th>3</th>\n",
       "      <td>56</td>\n",
       "      <td>3066772.0</td>\n",
       "    </tr>\n",
       "    <tr>\n",
       "      <th>9</th>\n",
       "      <td>25</td>\n",
       "      <td>2998956.0</td>\n",
       "    </tr>\n",
       "    <tr>\n",
       "      <th>10</th>\n",
       "      <td>15</td>\n",
       "      <td>2980888.0</td>\n",
       "    </tr>\n",
       "    <tr>\n",
       "      <th>21</th>\n",
       "      <td>1</td>\n",
       "      <td>2800000.0</td>\n",
       "    </tr>\n",
       "    <tr>\n",
       "      <th>1</th>\n",
       "      <td>68</td>\n",
       "      <td>2535759.0</td>\n",
       "    </tr>\n",
       "  </tbody>\n",
       "</table>\n",
       "</div>"
      ],
      "text/plain": [
       "       count  mean_price\n",
       "floor                   \n",
       "19         3   8883333.0\n",
       "20         3   7503333.0\n",
       "22         2   6604500.0\n",
       "25         2   6500000.0\n",
       "24         2   5855000.0\n",
       "14        16   5118381.0\n",
       "13        11   5091447.0\n",
       "11        10   4946305.0\n",
       "23         1   4900000.0\n",
       "12        16   4572611.0\n",
       "6         34   4440595.0\n",
       "8         27   4396305.0\n",
       "7         29   4389411.0\n",
       "17         1   4350000.0\n",
       "16        19   4068043.0\n",
       "15         9   3894778.0\n",
       "4         58   3484182.0\n",
       "2         82   3430697.0\n",
       "5         67   3117175.0\n",
       "3         56   3066772.0\n",
       "9         25   2998956.0\n",
       "10        15   2980888.0\n",
       "21         1   2800000.0\n",
       "1         68   2535759.0"
      ]
     },
     "execution_count": 26,
     "metadata": {},
     "output_type": "execute_result"
    }
   ],
   "source": [
    "# Разделить квартиры на группы по этажам. \n",
    "# Рассчитать кол-во квартир и среднюю цену в каждой группе. \n",
    "# Оценить, где самые дорогие/дешевые квартиры.\n",
    "\n",
    "apart.groupby('floor') \\\n",
    "    .agg({'room': 'count', 'price':'mean'}) \\\n",
    "    .sort_values(by='price', ascending=False) \\\n",
    "    .rename(columns={'room':'count', 'price':'mean_price'}).round(0)"
   ]
  },
  {
   "cell_type": "code",
   "execution_count": 27,
   "metadata": {},
   "outputs": [
    {
     "data": {
      "text/plain": [
       "<matplotlib.axes._subplots.AxesSubplot at 0x15f6eca8070>"
      ]
     },
     "execution_count": 27,
     "metadata": {},
     "output_type": "execute_result"
    },
    {
     "data": {
      "image/png": "[encoded data removed]",
      "text/plain": [
       "<Figure size 432x288 with 1 Axes>"
      ]
     },
     "metadata": {
      "needs_background": "light"
     },
     "output_type": "display_data"
    }
   ],
   "source": [
    "# Построить гистограмму по районам\n",
    "\n",
    "apart['district'].value_counts().plot(kind='bar')"
   ]
  },
  {
   "cell_type": "code",
   "execution_count": 28,
   "metadata": {},
   "outputs": [
    {
     "data": {
      "text/plain": [
       "0    р-н Свердловский\n",
       "dtype: object"
      ]
     },
     "execution_count": 28,
     "metadata": {},
     "output_type": "execute_result"
    }
   ],
   "source": [
    "# самая популярный район\n",
    "apart['district'].mode()"
   ]
  },
  {
   "cell_type": "code",
   "execution_count": 29,
   "metadata": {},
   "outputs": [
    {
     "data": {
      "text/plain": [
       "<matplotlib.axes._subplots.AxesSubplot at 0x15f6f2cc070>"
      ]
     },
     "execution_count": 29,
     "metadata": {},
     "output_type": "execute_result"
    },
    {
     "data": {
      "image/png": "[encoded data removed]",
      "text/plain": [
       "<Figure size 432x288 with 1 Axes>"
      ]
     },
     "metadata": {
      "needs_background": "light"
     },
     "output_type": "display_data"
    }
   ],
   "source": [
    "apart['room'].value_counts().plot(kind='bar')"
   ]
  },
  {
   "cell_type": "code",
   "execution_count": 30,
   "metadata": {},
   "outputs": [
    {
     "data": {
      "text/plain": [
       "<matplotlib.axes._subplots.AxesSubplot at 0x15f6f2cc6a0>"
      ]
     },
     "execution_count": 30,
     "metadata": {},
     "output_type": "execute_result"
    },
    {
     "data": {
      "image/png": "[encoded data removed]",
      "text/plain": [
       "<Figure size 432x288 with 1 Axes>"
      ]
     },
     "metadata": {
      "needs_background": "light"
     },
     "output_type": "display_data"
    }
   ],
   "source": [
    "apart['price'].hist(bins=30)"
   ]
  },
  {
   "cell_type": "code",
   "execution_count": 31,
   "metadata": {},
   "outputs": [
    {
     "data": {
      "text/plain": [
       "<matplotlib.axes._subplots.AxesSubplot at 0x15f6fab76a0>"
      ]
     },
     "execution_count": 31,
     "metadata": {},
     "output_type": "execute_result"
    },
    {
     "data": {
      "image/png": "[encoded data removed]",
      "text/plain": [
       "<Figure size 432x288 with 1 Axes>"
      ]
     },
     "metadata": {
      "needs_background": "light"
     },
     "output_type": "display_data"
    }
   ],
   "source": [
    "apart['square'].hist(bins=30)"
   ]
  },
  {
   "cell_type": "code",
   "execution_count": 32,
   "metadata": {},
   "outputs": [
    {
     "data": {
      "text/plain": [
       "<matplotlib.axes._subplots.AxesSubplot at 0x15f6f146280>"
      ]
     },
     "execution_count": 32,
     "metadata": {},
     "output_type": "execute_result"
    },
    {
     "data": {
      "image/png": "[encoded data removed]",
      "text/plain": [
       "<Figure size 432x288 with 1 Axes>"
      ]
     },
     "metadata": {
      "needs_background": "light"
     },
     "output_type": "display_data"
    }
   ],
   "source": [
    "# ящик с усами по площади\n",
    "apart.boxplot('square')"
   ]
  },
  {
   "cell_type": "code",
   "execution_count": 33,
   "metadata": {},
   "outputs": [
    {
     "data": {
      "text/plain": [
       "<matplotlib.axes._subplots.AxesSubplot at 0x15f6f259b20>"
      ]
     },
     "execution_count": 33,
     "metadata": {},
     "output_type": "execute_result"
    },
    {
     "data": {
      "image/png": "[encoded data removed]",
      "text/plain": [
       "<Figure size 432x288 with 1 Axes>"
      ]
     },
     "metadata": {
      "needs_background": "light"
     },
     "output_type": "display_data"
    }
   ],
   "source": [
    "# ящик с усами по цене\n",
    "apart.boxplot('price')\n"
   ]
  },
  {
   "cell_type": "code",
   "execution_count": 34,
   "metadata": {},
   "outputs": [
    {
     "data": {
      "text/plain": [
       "<matplotlib.axes._subplots.AxesSubplot at 0x15f6edd9c10>"
      ]
     },
     "execution_count": 34,
     "metadata": {},
     "output_type": "execute_result"
    },
    {
     "data": {
      "image/png": "[encoded data removed]",
      "text/plain": [
       "<Figure size 432x288 with 1 Axes>"
      ]
     },
     "metadata": {
      "needs_background": "light"
     },
     "output_type": "display_data"
    }
   ],
   "source": [
    "# ящик с усами по этажам\n",
    "apart.boxplot('floor')\n"
   ]
  },
  {
   "cell_type": "code",
   "execution_count": 35,
   "metadata": {},
   "outputs": [
    {
     "name": "stdout",
     "output_type": "stream",
     "text": [
      "Populating the interactive namespace from numpy and matplotlib\n"
     ]
    },
    {
     "name": "stderr",
     "output_type": "stream",
     "text": [
      "C:\\Users\\sasha\\anaconda3\\lib\\site-packages\\IPython\\core\\magics\\pylab.py:159: UserWarning: pylab import has clobbered these variables: ['floor', 'square']\n",
      "`%matplotlib` prevents importing * from pylab and numpy\n",
      "  warn(\"pylab import has clobbered these variables: %s\"  % clobbered +\n"
     ]
    },
    {
     "data": {
      "image/png": "[encoded data removed]",
      "text/plain": [
       "<Figure size 720x720 with 1 Axes>"
      ]
     },
     "metadata": {
      "needs_background": "light"
     },
     "output_type": "display_data"
    }
   ],
   "source": [
    "%pylab inline\n",
    "import matplotlib.pyplot as plt\n",
    "\n",
    "apart.boxplot(column='price',  by='district', figsize=(10,10))\n",
    "plt.show()"
   ]
  },
  {
   "cell_type": "code",
   "execution_count": 36,
   "metadata": {},
   "outputs": [
    {
     "data": {
      "image/png": "[encoded data removed]",
      "text/plain": [
       "<Figure size 720x720 with 1 Axes>"
      ]
     },
     "metadata": {
      "needs_background": "light"
     },
     "output_type": "display_data"
    }
   ],
   "source": [
    "apart.boxplot(column='square',  by='district', figsize=(10,10))\n",
    "plt.show()"
   ]
  },
  {
   "cell_type": "code",
   "execution_count": null,
   "metadata": {},
   "outputs": [],
   "source": []
  },
  {
   "cell_type": "code",
   "execution_count": null,
   "metadata": {},
   "outputs": [],
   "source": []
  }
 ],
 "metadata": {
  "kernelspec": {
   "display_name": "Python 3",
   "language": "python",
   "name": "python3"
  },
  "language_info": {
   "codemirror_mode": {
    "name": "ipython",
    "version": 3
   },
   "file_extension": ".py",
   "mimetype": "text/x-python",
   "name": "python",
   "nbconvert_exporter": "python",
   "pygments_lexer": "ipython3",
   "version": "3.8.3"
  }
 },
 "nbformat": 4,
 "nbformat_minor": 4
}
