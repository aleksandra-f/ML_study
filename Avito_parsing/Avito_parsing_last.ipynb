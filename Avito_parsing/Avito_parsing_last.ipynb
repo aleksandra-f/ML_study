{
 "cells": [
  {
   "cell_type": "markdown",
   "metadata": {},
   "source": [
    "Задачи:\n",
    "\n",
    "1)Собрать данные о продажах квартир в Перми (район, цена,\n",
    "этаж, площадь, кол-во комнат) с сайта avito.\n",
    "\n",
    "2)Найти топ-5 самых дорогих, дешевых квартир.\n",
    "\n",
    "3)Разделить квартиры на группы по районам, кол-во комнату,\n",
    "этажам. Рассчитать кол-во квартир и среднюю цену в\n",
    "каждой группе. Оценить, где самые дорогие/дешевые\n",
    "квартиры.\n",
    "\n",
    "4)Построить гистограмму, ящик с усами для различных групп.\n",
    "Оценить самую популярную площадь, район, кол-во\n",
    "комнат."
   ]
  },
  {
   "cell_type": "code",
   "execution_count": null,
   "metadata": {},
   "outputs": [],
   "source": [
    "!pip install selenium"
   ]
  },
  {
   "cell_type": "code",
   "execution_count": 142,
   "metadata": {},
   "outputs": [],
   "source": [
    "from bs4 import BeautifulSoup\n",
    "from selenium.webdriver import Chrome\n",
    "import pandas as pd\n",
    "import time\n",
    "\n",
    "browser = Chrome('chromedriver.exe')"
   ]
  },
  {
   "cell_type": "code",
   "execution_count": 132,
   "metadata": {},
   "outputs": [],
   "source": [
    "apart = pd.DataFrame(columns=['room','price','district', 'floor', 'square'])"
   ]
  },
  {
   "cell_type": "code",
   "execution_count": 133,
   "metadata": {},
   "outputs": [
    {
     "name": "stdout",
     "output_type": "stream",
     "text": [
      "page  1\n",
      "page  2\n",
      "page  3\n",
      "page  4\n",
      "page  5\n",
      "page  6\n",
      "page  7\n",
      "page  8\n",
      "page  9\n",
      "page  10\n",
      "page  11\n",
      "page  12\n",
      "page  13\n",
      "page  14\n",
      "page  15\n",
      "page  16\n",
      "page  17\n",
      "page  18\n",
      "page  19\n",
      "page  20\n",
      "page  21\n",
      "page  22\n",
      "page  23\n",
      "page  24\n",
      "page  25\n",
      "page  26\n",
      "page  27\n",
      "page  28\n",
      "page  29\n",
      "page  30\n",
      "page  31\n",
      "page  32\n",
      "page  33\n",
      "page  34\n",
      "page  35\n",
      "page  36\n",
      "page  37\n",
      "page  38\n",
      "page  39\n",
      "page  40\n",
      "page  41\n",
      "page  42\n",
      "page  43\n",
      "page  44\n",
      "page  45\n",
      "page  46\n",
      "page  47\n",
      "page  48\n",
      "page  49\n",
      "page  50\n"
     ]
    }
   ],
   "source": [
    "#парсинг данных по квартирам г.Перми с сайта Авито\n",
    "\n",
    "selector = '.iva-item-body-NPl6W'\n",
    "for x in range(1,51):\n",
    "    print('page ', x)\n",
    "    time.sleep(1)\n",
    "    browser.get('https://www.avito.ru/perm/kvartiry/prodam-ASgBAgICAUSSA8YQ?cd=1&p='+str(x))\n",
    "    page = BeautifulSoup(browser.page_source, 'html.parser')\n",
    "    #print(page.select(selector))\n",
    "    for item in page.select(selector):\n",
    "        room, square, floor = str.split(item.select('.title-root-395AQ')[0].text.strip(), ', ')\n",
    "        \n",
    "        price = item.select('.price-text-1HrJ_')[0].text.strip()\n",
    "        #print(price)\n",
    "        if item.select('.geo-georeferences-3or5Q'):\n",
    "            district = item.select('.geo-georeferences-3or5Q')[0].text.strip()\n",
    "        else:\n",
    "            district = None\n",
    "        #print(district)\n",
    "        \n",
    "        item = {'room':room, 'floor':floor, 'square':square, 'price':price, 'district':district}\n",
    "        apart.loc[len(apart)] = item"
   ]
  },
  {
   "cell_type": "code",
   "execution_count": 134,
   "metadata": {},
   "outputs": [
    {
     "data": {
      "text/html": [
       "<div>\n",
       "<style scoped>\n",
       "    .dataframe tbody tr th:only-of-type {\n",
       "        vertical-align: middle;\n",
       "    }\n",
       "\n",
       "    .dataframe tbody tr th {\n",
       "        vertical-align: top;\n",
       "    }\n",
       "\n",
       "    .dataframe thead th {\n",
       "        text-align: right;\n",
       "    }\n",
       "</style>\n",
       "<table border=\"1\" class=\"dataframe\">\n",
       "  <thead>\n",
       "    <tr style=\"text-align: right;\">\n",
       "      <th></th>\n",
       "      <th>room</th>\n",
       "      <th>price</th>\n",
       "      <th>district</th>\n",
       "      <th>floor</th>\n",
       "      <th>square</th>\n",
       "    </tr>\n",
       "  </thead>\n",
       "  <tbody>\n",
       "    <tr>\n",
       "      <th>0</th>\n",
       "      <td>Своб. планировка</td>\n",
       "      <td>8 554 000 ₽</td>\n",
       "      <td>р-н Ленинский</td>\n",
       "      <td>13/25 эт.</td>\n",
       "      <td>132 м²</td>\n",
       "    </tr>\n",
       "    <tr>\n",
       "      <th>1</th>\n",
       "      <td>2-к квартира</td>\n",
       "      <td>3 900 000 ₽</td>\n",
       "      <td>р-н Индустриальный</td>\n",
       "      <td>13/16 эт.</td>\n",
       "      <td>54.7 м²</td>\n",
       "    </tr>\n",
       "    <tr>\n",
       "      <th>2</th>\n",
       "      <td>Квартира-студия</td>\n",
       "      <td>2 310 830 ₽</td>\n",
       "      <td>р-н Мотовилихинский</td>\n",
       "      <td>1/4 эт.</td>\n",
       "      <td>34.5 м²</td>\n",
       "    </tr>\n",
       "    <tr>\n",
       "      <th>3</th>\n",
       "      <td>1-к квартира</td>\n",
       "      <td>3 120 390 ₽</td>\n",
       "      <td>р-н Мотовилихинский</td>\n",
       "      <td>4/17 эт.</td>\n",
       "      <td>37.8 м²</td>\n",
       "    </tr>\n",
       "    <tr>\n",
       "      <th>4</th>\n",
       "      <td>Квартира-студия</td>\n",
       "      <td>1 500 000 ₽</td>\n",
       "      <td>р-н Свердловский</td>\n",
       "      <td>3/5 эт.</td>\n",
       "      <td>17 м²</td>\n",
       "    </tr>\n",
       "    <tr>\n",
       "      <th>...</th>\n",
       "      <td>...</td>\n",
       "      <td>...</td>\n",
       "      <td>...</td>\n",
       "      <td>...</td>\n",
       "      <td>...</td>\n",
       "    </tr>\n",
       "    <tr>\n",
       "      <th>2798</th>\n",
       "      <td>1-к квартира</td>\n",
       "      <td>3 399 000 ₽</td>\n",
       "      <td>р-н Мотовилихинский</td>\n",
       "      <td>14/25 эт.</td>\n",
       "      <td>40 м²</td>\n",
       "    </tr>\n",
       "    <tr>\n",
       "      <th>2799</th>\n",
       "      <td>2-к квартира</td>\n",
       "      <td>6 120 000 ₽</td>\n",
       "      <td>р-н Ленинский</td>\n",
       "      <td>9/17 эт.</td>\n",
       "      <td>72 м²</td>\n",
       "    </tr>\n",
       "    <tr>\n",
       "      <th>2800</th>\n",
       "      <td>2-к квартира</td>\n",
       "      <td>3 900 000 ₽</td>\n",
       "      <td>р-н Кировский</td>\n",
       "      <td>8/10 эт.</td>\n",
       "      <td>50 м²</td>\n",
       "    </tr>\n",
       "    <tr>\n",
       "      <th>2801</th>\n",
       "      <td>2-к квартира</td>\n",
       "      <td>4 980 000 ₽</td>\n",
       "      <td>р-н Дзержинский</td>\n",
       "      <td>18/18 эт.</td>\n",
       "      <td>71 м²</td>\n",
       "    </tr>\n",
       "    <tr>\n",
       "      <th>2802</th>\n",
       "      <td>1-к квартира</td>\n",
       "      <td>1 830 000 ₽</td>\n",
       "      <td>р-н Дзержинский</td>\n",
       "      <td>2/4 эт.</td>\n",
       "      <td>32 м²</td>\n",
       "    </tr>\n",
       "  </tbody>\n",
       "</table>\n",
       "<p>2803 rows × 5 columns</p>\n",
       "</div>"
      ],
      "text/plain": [
       "                  room        price             district      floor   square\n",
       "0     Своб. планировка  8 554 000 ₽        р-н Ленинский  13/25 эт.   132 м²\n",
       "1         2-к квартира  3 900 000 ₽   р-н Индустриальный  13/16 эт.  54.7 м²\n",
       "2      Квартира-студия  2 310 830 ₽  р-н Мотовилихинский    1/4 эт.  34.5 м²\n",
       "3         1-к квартира  3 120 390 ₽  р-н Мотовилихинский   4/17 эт.  37.8 м²\n",
       "4      Квартира-студия  1 500 000 ₽     р-н Свердловский    3/5 эт.    17 м²\n",
       "...                ...          ...                  ...        ...      ...\n",
       "2798      1-к квартира  3 399 000 ₽  р-н Мотовилихинский  14/25 эт.    40 м²\n",
       "2799      2-к квартира  6 120 000 ₽        р-н Ленинский   9/17 эт.    72 м²\n",
       "2800      2-к квартира  3 900 000 ₽        р-н Кировский   8/10 эт.    50 м²\n",
       "2801      2-к квартира  4 980 000 ₽      р-н Дзержинский  18/18 эт.    71 м²\n",
       "2802      1-к квартира  1 830 000 ₽      р-н Дзержинский    2/4 эт.    32 м²\n",
       "\n",
       "[2803 rows x 5 columns]"
      ]
     },
     "execution_count": 134,
     "metadata": {},
     "output_type": "execute_result"
    }
   ],
   "source": [
    "apart"
   ]
  },
  {
   "cell_type": "code",
   "execution_count": 135,
   "metadata": {},
   "outputs": [
    {
     "data": {
      "text/html": [
       "<div>\n",
       "<style scoped>\n",
       "    .dataframe tbody tr th:only-of-type {\n",
       "        vertical-align: middle;\n",
       "    }\n",
       "\n",
       "    .dataframe tbody tr th {\n",
       "        vertical-align: top;\n",
       "    }\n",
       "\n",
       "    .dataframe thead th {\n",
       "        text-align: right;\n",
       "    }\n",
       "</style>\n",
       "<table border=\"1\" class=\"dataframe\">\n",
       "  <thead>\n",
       "    <tr style=\"text-align: right;\">\n",
       "      <th></th>\n",
       "      <th>room</th>\n",
       "      <th>price</th>\n",
       "      <th>district</th>\n",
       "      <th>floor</th>\n",
       "      <th>square</th>\n",
       "    </tr>\n",
       "  </thead>\n",
       "  <tbody>\n",
       "    <tr>\n",
       "      <th>0</th>\n",
       "      <td>Своб. планировка</td>\n",
       "      <td>8554000.0</td>\n",
       "      <td>р-н Ленинский</td>\n",
       "      <td>13/25 эт.</td>\n",
       "      <td>132 м²</td>\n",
       "    </tr>\n",
       "    <tr>\n",
       "      <th>1</th>\n",
       "      <td>2-к квартира</td>\n",
       "      <td>3900000.0</td>\n",
       "      <td>р-н Индустриальный</td>\n",
       "      <td>13/16 эт.</td>\n",
       "      <td>54.7 м²</td>\n",
       "    </tr>\n",
       "    <tr>\n",
       "      <th>2</th>\n",
       "      <td>Квартира-студия</td>\n",
       "      <td>2310830.0</td>\n",
       "      <td>р-н Мотовилихинский</td>\n",
       "      <td>1/4 эт.</td>\n",
       "      <td>34.5 м²</td>\n",
       "    </tr>\n",
       "    <tr>\n",
       "      <th>3</th>\n",
       "      <td>1-к квартира</td>\n",
       "      <td>3120390.0</td>\n",
       "      <td>р-н Мотовилихинский</td>\n",
       "      <td>4/17 эт.</td>\n",
       "      <td>37.8 м²</td>\n",
       "    </tr>\n",
       "    <tr>\n",
       "      <th>4</th>\n",
       "      <td>Квартира-студия</td>\n",
       "      <td>1500000.0</td>\n",
       "      <td>р-н Свердловский</td>\n",
       "      <td>3/5 эт.</td>\n",
       "      <td>17 м²</td>\n",
       "    </tr>\n",
       "  </tbody>\n",
       "</table>\n",
       "</div>"
      ],
      "text/plain": [
       "               room      price             district      floor   square\n",
       "0  Своб. планировка  8554000.0        р-н Ленинский  13/25 эт.   132 м²\n",
       "1      2-к квартира  3900000.0   р-н Индустриальный  13/16 эт.  54.7 м²\n",
       "2   Квартира-студия  2310830.0  р-н Мотовилихинский    1/4 эт.  34.5 м²\n",
       "3      1-к квартира  3120390.0  р-н Мотовилихинский   4/17 эт.  37.8 м²\n",
       "4   Квартира-студия  1500000.0     р-н Свердловский    3/5 эт.    17 м²"
      ]
     },
     "execution_count": 135,
     "metadata": {},
     "output_type": "execute_result"
    }
   ],
   "source": [
    "apart['price'] = apart.price.str.replace(' ', '')\n",
    "apart['price'] = apart.price.str.replace('([^0-9]+)', '')\n",
    "apart['price'] = apart['price'].astype(float)\n",
    "apart.head()"
   ]
  },
  {
   "cell_type": "code",
   "execution_count": 154,
   "metadata": {},
   "outputs": [
    {
     "ename": "AttributeError",
     "evalue": "Can only use .str accessor with string values!",
     "output_type": "error",
     "traceback": [
      "\u001b[1;31m---------------------------------------------------------------------------\u001b[0m",
      "\u001b[1;31mAttributeError\u001b[0m                            Traceback (most recent call last)",
      "\u001b[1;32m<ipython-input-154-1cf83bc2ccee>\u001b[0m in \u001b[0;36m<module>\u001b[1;34m\u001b[0m\n\u001b[1;32m----> 1\u001b[1;33m \u001b[0mapart\u001b[0m\u001b[1;33m[\u001b[0m\u001b[1;34m'square'\u001b[0m\u001b[1;33m]\u001b[0m \u001b[1;33m=\u001b[0m \u001b[0mapart\u001b[0m\u001b[1;33m.\u001b[0m\u001b[0msquare\u001b[0m\u001b[1;33m.\u001b[0m\u001b[0mstr\u001b[0m\u001b[1;33m.\u001b[0m\u001b[0mreplace\u001b[0m\u001b[1;33m(\u001b[0m\u001b[1;34m' м²'\u001b[0m\u001b[1;33m,\u001b[0m \u001b[1;34m''\u001b[0m\u001b[1;33m)\u001b[0m\u001b[1;33m\u001b[0m\u001b[1;33m\u001b[0m\u001b[0m\n\u001b[0m\u001b[0;32m      2\u001b[0m \u001b[0mapart\u001b[0m\u001b[1;33m[\u001b[0m\u001b[1;34m'square'\u001b[0m\u001b[1;33m]\u001b[0m \u001b[1;33m=\u001b[0m \u001b[0mapart\u001b[0m\u001b[1;33m.\u001b[0m\u001b[0msquare\u001b[0m\u001b[1;33m.\u001b[0m\u001b[0mstr\u001b[0m\u001b[1;33m.\u001b[0m\u001b[0mreplace\u001b[0m\u001b[1;33m(\u001b[0m\u001b[1;34m' '\u001b[0m\u001b[1;33m,\u001b[0m \u001b[1;34m''\u001b[0m\u001b[1;33m)\u001b[0m\u001b[1;33m\u001b[0m\u001b[1;33m\u001b[0m\u001b[0m\n\u001b[0;32m      3\u001b[0m \u001b[0mapart\u001b[0m\u001b[1;33m[\u001b[0m\u001b[1;34m'square'\u001b[0m\u001b[1;33m]\u001b[0m \u001b[1;33m=\u001b[0m \u001b[0mapart\u001b[0m\u001b[1;33m[\u001b[0m\u001b[1;34m'square'\u001b[0m\u001b[1;33m]\u001b[0m\u001b[1;33m.\u001b[0m\u001b[0mastype\u001b[0m\u001b[1;33m(\u001b[0m\u001b[0mfloat\u001b[0m\u001b[1;33m)\u001b[0m\u001b[1;33m\u001b[0m\u001b[1;33m\u001b[0m\u001b[0m\n\u001b[0;32m      4\u001b[0m \u001b[0mapart\u001b[0m\u001b[1;33m[\u001b[0m\u001b[1;34m'floor'\u001b[0m\u001b[1;33m]\u001b[0m \u001b[1;33m=\u001b[0m \u001b[0mapart\u001b[0m\u001b[1;33m[\u001b[0m\u001b[1;34m'floor'\u001b[0m\u001b[1;33m]\u001b[0m\u001b[1;33m.\u001b[0m\u001b[0mstr\u001b[0m\u001b[1;33m.\u001b[0m\u001b[0mreplace\u001b[0m\u001b[1;33m(\u001b[0m\u001b[1;34m' эт.'\u001b[0m\u001b[1;33m,\u001b[0m \u001b[1;34m''\u001b[0m\u001b[1;33m)\u001b[0m\u001b[1;33m\u001b[0m\u001b[1;33m\u001b[0m\u001b[0m\n\u001b[0;32m      5\u001b[0m \u001b[0mfloor\u001b[0m \u001b[1;33m=\u001b[0m \u001b[0mapart\u001b[0m\u001b[1;33m[\u001b[0m\u001b[1;34m'floor'\u001b[0m\u001b[1;33m]\u001b[0m\u001b[1;33m.\u001b[0m\u001b[0mstr\u001b[0m\u001b[1;33m.\u001b[0m\u001b[0msplit\u001b[0m\u001b[1;33m(\u001b[0m\u001b[1;34m'/'\u001b[0m\u001b[1;33m,\u001b[0m \u001b[0mexpand\u001b[0m\u001b[1;33m=\u001b[0m\u001b[1;32mTrue\u001b[0m\u001b[1;33m)\u001b[0m\u001b[1;33m\u001b[0m\u001b[1;33m\u001b[0m\u001b[0m\n",
      "\u001b[1;32m~\\anaconda3\\lib\\site-packages\\pandas\\core\\generic.py\u001b[0m in \u001b[0;36m__getattr__\u001b[1;34m(self, name)\u001b[0m\n\u001b[0;32m   5268\u001b[0m             \u001b[1;32mor\u001b[0m \u001b[0mname\u001b[0m \u001b[1;32min\u001b[0m \u001b[0mself\u001b[0m\u001b[1;33m.\u001b[0m\u001b[0m_accessors\u001b[0m\u001b[1;33m\u001b[0m\u001b[1;33m\u001b[0m\u001b[0m\n\u001b[0;32m   5269\u001b[0m         ):\n\u001b[1;32m-> 5270\u001b[1;33m             \u001b[1;32mreturn\u001b[0m \u001b[0mobject\u001b[0m\u001b[1;33m.\u001b[0m\u001b[0m__getattribute__\u001b[0m\u001b[1;33m(\u001b[0m\u001b[0mself\u001b[0m\u001b[1;33m,\u001b[0m \u001b[0mname\u001b[0m\u001b[1;33m)\u001b[0m\u001b[1;33m\u001b[0m\u001b[1;33m\u001b[0m\u001b[0m\n\u001b[0m\u001b[0;32m   5271\u001b[0m         \u001b[1;32melse\u001b[0m\u001b[1;33m:\u001b[0m\u001b[1;33m\u001b[0m\u001b[1;33m\u001b[0m\u001b[0m\n\u001b[0;32m   5272\u001b[0m             \u001b[1;32mif\u001b[0m \u001b[0mself\u001b[0m\u001b[1;33m.\u001b[0m\u001b[0m_info_axis\u001b[0m\u001b[1;33m.\u001b[0m\u001b[0m_can_hold_identifiers_and_holds_name\u001b[0m\u001b[1;33m(\u001b[0m\u001b[0mname\u001b[0m\u001b[1;33m)\u001b[0m\u001b[1;33m:\u001b[0m\u001b[1;33m\u001b[0m\u001b[1;33m\u001b[0m\u001b[0m\n",
      "\u001b[1;32m~\\anaconda3\\lib\\site-packages\\pandas\\core\\accessor.py\u001b[0m in \u001b[0;36m__get__\u001b[1;34m(self, obj, cls)\u001b[0m\n\u001b[0;32m    185\u001b[0m             \u001b[1;31m# we're accessing the attribute of the class, i.e., Dataset.geo\u001b[0m\u001b[1;33m\u001b[0m\u001b[1;33m\u001b[0m\u001b[1;33m\u001b[0m\u001b[0m\n\u001b[0;32m    186\u001b[0m             \u001b[1;32mreturn\u001b[0m \u001b[0mself\u001b[0m\u001b[1;33m.\u001b[0m\u001b[0m_accessor\u001b[0m\u001b[1;33m\u001b[0m\u001b[1;33m\u001b[0m\u001b[0m\n\u001b[1;32m--> 187\u001b[1;33m         \u001b[0maccessor_obj\u001b[0m \u001b[1;33m=\u001b[0m \u001b[0mself\u001b[0m\u001b[1;33m.\u001b[0m\u001b[0m_accessor\u001b[0m\u001b[1;33m(\u001b[0m\u001b[0mobj\u001b[0m\u001b[1;33m)\u001b[0m\u001b[1;33m\u001b[0m\u001b[1;33m\u001b[0m\u001b[0m\n\u001b[0m\u001b[0;32m    188\u001b[0m         \u001b[1;31m# Replace the property with the accessor object. Inspired by:\u001b[0m\u001b[1;33m\u001b[0m\u001b[1;33m\u001b[0m\u001b[1;33m\u001b[0m\u001b[0m\n\u001b[0;32m    189\u001b[0m         \u001b[1;31m# http://www.pydanny.com/cached-property.html\u001b[0m\u001b[1;33m\u001b[0m\u001b[1;33m\u001b[0m\u001b[1;33m\u001b[0m\u001b[0m\n",
      "\u001b[1;32m~\\anaconda3\\lib\\site-packages\\pandas\\core\\strings.py\u001b[0m in \u001b[0;36m__init__\u001b[1;34m(self, data)\u001b[0m\n\u001b[0;32m   2039\u001b[0m \u001b[1;33m\u001b[0m\u001b[0m\n\u001b[0;32m   2040\u001b[0m     \u001b[1;32mdef\u001b[0m \u001b[0m__init__\u001b[0m\u001b[1;33m(\u001b[0m\u001b[0mself\u001b[0m\u001b[1;33m,\u001b[0m \u001b[0mdata\u001b[0m\u001b[1;33m)\u001b[0m\u001b[1;33m:\u001b[0m\u001b[1;33m\u001b[0m\u001b[1;33m\u001b[0m\u001b[0m\n\u001b[1;32m-> 2041\u001b[1;33m         \u001b[0mself\u001b[0m\u001b[1;33m.\u001b[0m\u001b[0m_inferred_dtype\u001b[0m \u001b[1;33m=\u001b[0m \u001b[0mself\u001b[0m\u001b[1;33m.\u001b[0m\u001b[0m_validate\u001b[0m\u001b[1;33m(\u001b[0m\u001b[0mdata\u001b[0m\u001b[1;33m)\u001b[0m\u001b[1;33m\u001b[0m\u001b[1;33m\u001b[0m\u001b[0m\n\u001b[0m\u001b[0;32m   2042\u001b[0m         \u001b[0mself\u001b[0m\u001b[1;33m.\u001b[0m\u001b[0m_is_categorical\u001b[0m \u001b[1;33m=\u001b[0m \u001b[0mis_categorical_dtype\u001b[0m\u001b[1;33m(\u001b[0m\u001b[0mdata\u001b[0m\u001b[1;33m)\u001b[0m\u001b[1;33m\u001b[0m\u001b[1;33m\u001b[0m\u001b[0m\n\u001b[0;32m   2043\u001b[0m         \u001b[0mself\u001b[0m\u001b[1;33m.\u001b[0m\u001b[0m_is_string\u001b[0m \u001b[1;33m=\u001b[0m \u001b[0mdata\u001b[0m\u001b[1;33m.\u001b[0m\u001b[0mdtype\u001b[0m\u001b[1;33m.\u001b[0m\u001b[0mname\u001b[0m \u001b[1;33m==\u001b[0m \u001b[1;34m\"string\"\u001b[0m\u001b[1;33m\u001b[0m\u001b[1;33m\u001b[0m\u001b[0m\n",
      "\u001b[1;32m~\\anaconda3\\lib\\site-packages\\pandas\\core\\strings.py\u001b[0m in \u001b[0;36m_validate\u001b[1;34m(data)\u001b[0m\n\u001b[0;32m   2096\u001b[0m \u001b[1;33m\u001b[0m\u001b[0m\n\u001b[0;32m   2097\u001b[0m         \u001b[1;32mif\u001b[0m \u001b[0minferred_dtype\u001b[0m \u001b[1;32mnot\u001b[0m \u001b[1;32min\u001b[0m \u001b[0mallowed_types\u001b[0m\u001b[1;33m:\u001b[0m\u001b[1;33m\u001b[0m\u001b[1;33m\u001b[0m\u001b[0m\n\u001b[1;32m-> 2098\u001b[1;33m             \u001b[1;32mraise\u001b[0m \u001b[0mAttributeError\u001b[0m\u001b[1;33m(\u001b[0m\u001b[1;34m\"Can only use .str accessor with string values!\"\u001b[0m\u001b[1;33m)\u001b[0m\u001b[1;33m\u001b[0m\u001b[1;33m\u001b[0m\u001b[0m\n\u001b[0m\u001b[0;32m   2099\u001b[0m         \u001b[1;32mreturn\u001b[0m \u001b[0minferred_dtype\u001b[0m\u001b[1;33m\u001b[0m\u001b[1;33m\u001b[0m\u001b[0m\n\u001b[0;32m   2100\u001b[0m \u001b[1;33m\u001b[0m\u001b[0m\n",
      "\u001b[1;31mAttributeError\u001b[0m: Can only use .str accessor with string values!"
     ]
    }
   ],
   "source": [
    "apart['square'] = apart.square.str.replace(' м²', '')\n",
    "apart['square'] = apart.square.str.replace(' ', '')\n",
    "apart['square'] = apart['square'].astype(float)\n",
    "\n",
    "apart.head()"
   ]
  },
  {
   "cell_type": "code",
   "execution_count": 137,
   "metadata": {},
   "outputs": [],
   "source": [
    "apart = apart.drop(index=apart[apart['district'].isnull()].index)"
   ]
  },
  {
   "cell_type": "code",
   "execution_count": 139,
   "metadata": {},
   "outputs": [
    {
     "data": {
      "text/plain": [
       "(2770, 5)"
      ]
     },
     "execution_count": 139,
     "metadata": {},
     "output_type": "execute_result"
    }
   ],
   "source": [
    "apart.shape"
   ]
  },
  {
   "cell_type": "code",
   "execution_count": 141,
   "metadata": {},
   "outputs": [],
   "source": [
    "apart.to_csv('avito.csv', index=False)"
   ]
  },
  {
   "cell_type": "code",
   "execution_count": 155,
   "metadata": {},
   "outputs": [],
   "source": [
    "apart = pd.read_csv('avito.csv')"
   ]
  },
  {
   "cell_type": "code",
   "execution_count": 156,
   "metadata": {},
   "outputs": [
    {
     "data": {
      "text/html": [
       "<div>\n",
       "<style scoped>\n",
       "    .dataframe tbody tr th:only-of-type {\n",
       "        vertical-align: middle;\n",
       "    }\n",
       "\n",
       "    .dataframe tbody tr th {\n",
       "        vertical-align: top;\n",
       "    }\n",
       "\n",
       "    .dataframe thead th {\n",
       "        text-align: right;\n",
       "    }\n",
       "</style>\n",
       "<table border=\"1\" class=\"dataframe\">\n",
       "  <thead>\n",
       "    <tr style=\"text-align: right;\">\n",
       "      <th></th>\n",
       "      <th>room</th>\n",
       "      <th>price</th>\n",
       "      <th>district</th>\n",
       "      <th>floor</th>\n",
       "      <th>square</th>\n",
       "    </tr>\n",
       "  </thead>\n",
       "  <tbody>\n",
       "    <tr>\n",
       "      <th>0</th>\n",
       "      <td>Своб. планировка</td>\n",
       "      <td>8554000.0</td>\n",
       "      <td>р-н Ленинский</td>\n",
       "      <td>13/25 эт.</td>\n",
       "      <td>132.0</td>\n",
       "    </tr>\n",
       "    <tr>\n",
       "      <th>1</th>\n",
       "      <td>2-к квартира</td>\n",
       "      <td>3900000.0</td>\n",
       "      <td>р-н Индустриальный</td>\n",
       "      <td>13/16 эт.</td>\n",
       "      <td>54.7</td>\n",
       "    </tr>\n",
       "    <tr>\n",
       "      <th>2</th>\n",
       "      <td>Квартира-студия</td>\n",
       "      <td>2310830.0</td>\n",
       "      <td>р-н Мотовилихинский</td>\n",
       "      <td>1/4 эт.</td>\n",
       "      <td>34.5</td>\n",
       "    </tr>\n",
       "    <tr>\n",
       "      <th>3</th>\n",
       "      <td>1-к квартира</td>\n",
       "      <td>3120390.0</td>\n",
       "      <td>р-н Мотовилихинский</td>\n",
       "      <td>4/17 эт.</td>\n",
       "      <td>37.8</td>\n",
       "    </tr>\n",
       "    <tr>\n",
       "      <th>4</th>\n",
       "      <td>Квартира-студия</td>\n",
       "      <td>1500000.0</td>\n",
       "      <td>р-н Свердловский</td>\n",
       "      <td>3/5 эт.</td>\n",
       "      <td>17.0</td>\n",
       "    </tr>\n",
       "    <tr>\n",
       "      <th>...</th>\n",
       "      <td>...</td>\n",
       "      <td>...</td>\n",
       "      <td>...</td>\n",
       "      <td>...</td>\n",
       "      <td>...</td>\n",
       "    </tr>\n",
       "    <tr>\n",
       "      <th>2765</th>\n",
       "      <td>1-к квартира</td>\n",
       "      <td>3399000.0</td>\n",
       "      <td>р-н Мотовилихинский</td>\n",
       "      <td>14/25 эт.</td>\n",
       "      <td>40.0</td>\n",
       "    </tr>\n",
       "    <tr>\n",
       "      <th>2766</th>\n",
       "      <td>2-к квартира</td>\n",
       "      <td>6120000.0</td>\n",
       "      <td>р-н Ленинский</td>\n",
       "      <td>9/17 эт.</td>\n",
       "      <td>72.0</td>\n",
       "    </tr>\n",
       "    <tr>\n",
       "      <th>2767</th>\n",
       "      <td>2-к квартира</td>\n",
       "      <td>3900000.0</td>\n",
       "      <td>р-н Кировский</td>\n",
       "      <td>8/10 эт.</td>\n",
       "      <td>50.0</td>\n",
       "    </tr>\n",
       "    <tr>\n",
       "      <th>2768</th>\n",
       "      <td>2-к квартира</td>\n",
       "      <td>4980000.0</td>\n",
       "      <td>р-н Дзержинский</td>\n",
       "      <td>18/18 эт.</td>\n",
       "      <td>71.0</td>\n",
       "    </tr>\n",
       "    <tr>\n",
       "      <th>2769</th>\n",
       "      <td>1-к квартира</td>\n",
       "      <td>1830000.0</td>\n",
       "      <td>р-н Дзержинский</td>\n",
       "      <td>2/4 эт.</td>\n",
       "      <td>32.0</td>\n",
       "    </tr>\n",
       "  </tbody>\n",
       "</table>\n",
       "<p>2770 rows × 5 columns</p>\n",
       "</div>"
      ],
      "text/plain": [
       "                  room      price             district      floor  square\n",
       "0     Своб. планировка  8554000.0        р-н Ленинский  13/25 эт.   132.0\n",
       "1         2-к квартира  3900000.0   р-н Индустриальный  13/16 эт.    54.7\n",
       "2      Квартира-студия  2310830.0  р-н Мотовилихинский    1/4 эт.    34.5\n",
       "3         1-к квартира  3120390.0  р-н Мотовилихинский   4/17 эт.    37.8\n",
       "4      Квартира-студия  1500000.0     р-н Свердловский    3/5 эт.    17.0\n",
       "...                ...        ...                  ...        ...     ...\n",
       "2765      1-к квартира  3399000.0  р-н Мотовилихинский  14/25 эт.    40.0\n",
       "2766      2-к квартира  6120000.0        р-н Ленинский   9/17 эт.    72.0\n",
       "2767      2-к квартира  3900000.0        р-н Кировский   8/10 эт.    50.0\n",
       "2768      2-к квартира  4980000.0      р-н Дзержинский  18/18 эт.    71.0\n",
       "2769      1-к квартира  1830000.0      р-н Дзержинский    2/4 эт.    32.0\n",
       "\n",
       "[2770 rows x 5 columns]"
      ]
     },
     "execution_count": 156,
     "metadata": {},
     "output_type": "execute_result"
    }
   ],
   "source": [
    "apart"
   ]
  },
  {
   "cell_type": "code",
   "execution_count": 157,
   "metadata": {},
   "outputs": [
    {
     "data": {
      "text/html": [
       "<div>\n",
       "<style scoped>\n",
       "    .dataframe tbody tr th:only-of-type {\n",
       "        vertical-align: middle;\n",
       "    }\n",
       "\n",
       "    .dataframe tbody tr th {\n",
       "        vertical-align: top;\n",
       "    }\n",
       "\n",
       "    .dataframe thead th {\n",
       "        text-align: right;\n",
       "    }\n",
       "</style>\n",
       "<table border=\"1\" class=\"dataframe\">\n",
       "  <thead>\n",
       "    <tr style=\"text-align: right;\">\n",
       "      <th></th>\n",
       "      <th>room</th>\n",
       "      <th>price</th>\n",
       "      <th>district</th>\n",
       "      <th>floor</th>\n",
       "      <th>square</th>\n",
       "      <th>number of storeys</th>\n",
       "    </tr>\n",
       "  </thead>\n",
       "  <tbody>\n",
       "    <tr>\n",
       "      <th>0</th>\n",
       "      <td>Своб. планировка</td>\n",
       "      <td>8554000.0</td>\n",
       "      <td>р-н Ленинский</td>\n",
       "      <td>13</td>\n",
       "      <td>132.0</td>\n",
       "      <td>25</td>\n",
       "    </tr>\n",
       "    <tr>\n",
       "      <th>1</th>\n",
       "      <td>2-к квартира</td>\n",
       "      <td>3900000.0</td>\n",
       "      <td>р-н Индустриальный</td>\n",
       "      <td>13</td>\n",
       "      <td>54.7</td>\n",
       "      <td>16</td>\n",
       "    </tr>\n",
       "    <tr>\n",
       "      <th>2</th>\n",
       "      <td>Квартира-студия</td>\n",
       "      <td>2310830.0</td>\n",
       "      <td>р-н Мотовилихинский</td>\n",
       "      <td>1</td>\n",
       "      <td>34.5</td>\n",
       "      <td>4</td>\n",
       "    </tr>\n",
       "    <tr>\n",
       "      <th>3</th>\n",
       "      <td>1-к квартира</td>\n",
       "      <td>3120390.0</td>\n",
       "      <td>р-н Мотовилихинский</td>\n",
       "      <td>4</td>\n",
       "      <td>37.8</td>\n",
       "      <td>17</td>\n",
       "    </tr>\n",
       "    <tr>\n",
       "      <th>4</th>\n",
       "      <td>Квартира-студия</td>\n",
       "      <td>1500000.0</td>\n",
       "      <td>р-н Свердловский</td>\n",
       "      <td>3</td>\n",
       "      <td>17.0</td>\n",
       "      <td>5</td>\n",
       "    </tr>\n",
       "    <tr>\n",
       "      <th>...</th>\n",
       "      <td>...</td>\n",
       "      <td>...</td>\n",
       "      <td>...</td>\n",
       "      <td>...</td>\n",
       "      <td>...</td>\n",
       "      <td>...</td>\n",
       "    </tr>\n",
       "    <tr>\n",
       "      <th>2765</th>\n",
       "      <td>1-к квартира</td>\n",
       "      <td>3399000.0</td>\n",
       "      <td>р-н Мотовилихинский</td>\n",
       "      <td>14</td>\n",
       "      <td>40.0</td>\n",
       "      <td>25</td>\n",
       "    </tr>\n",
       "    <tr>\n",
       "      <th>2766</th>\n",
       "      <td>2-к квартира</td>\n",
       "      <td>6120000.0</td>\n",
       "      <td>р-н Ленинский</td>\n",
       "      <td>9</td>\n",
       "      <td>72.0</td>\n",
       "      <td>17</td>\n",
       "    </tr>\n",
       "    <tr>\n",
       "      <th>2767</th>\n",
       "      <td>2-к квартира</td>\n",
       "      <td>3900000.0</td>\n",
       "      <td>р-н Кировский</td>\n",
       "      <td>8</td>\n",
       "      <td>50.0</td>\n",
       "      <td>10</td>\n",
       "    </tr>\n",
       "    <tr>\n",
       "      <th>2768</th>\n",
       "      <td>2-к квартира</td>\n",
       "      <td>4980000.0</td>\n",
       "      <td>р-н Дзержинский</td>\n",
       "      <td>18</td>\n",
       "      <td>71.0</td>\n",
       "      <td>18</td>\n",
       "    </tr>\n",
       "    <tr>\n",
       "      <th>2769</th>\n",
       "      <td>1-к квартира</td>\n",
       "      <td>1830000.0</td>\n",
       "      <td>р-н Дзержинский</td>\n",
       "      <td>2</td>\n",
       "      <td>32.0</td>\n",
       "      <td>4</td>\n",
       "    </tr>\n",
       "  </tbody>\n",
       "</table>\n",
       "<p>2770 rows × 6 columns</p>\n",
       "</div>"
      ],
      "text/plain": [
       "                  room      price             district  floor  square  \\\n",
       "0     Своб. планировка  8554000.0        р-н Ленинский     13   132.0   \n",
       "1         2-к квартира  3900000.0   р-н Индустриальный     13    54.7   \n",
       "2      Квартира-студия  2310830.0  р-н Мотовилихинский      1    34.5   \n",
       "3         1-к квартира  3120390.0  р-н Мотовилихинский      4    37.8   \n",
       "4      Квартира-студия  1500000.0     р-н Свердловский      3    17.0   \n",
       "...                ...        ...                  ...    ...     ...   \n",
       "2765      1-к квартира  3399000.0  р-н Мотовилихинский     14    40.0   \n",
       "2766      2-к квартира  6120000.0        р-н Ленинский      9    72.0   \n",
       "2767      2-к квартира  3900000.0        р-н Кировский      8    50.0   \n",
       "2768      2-к квартира  4980000.0      р-н Дзержинский     18    71.0   \n",
       "2769      1-к квартира  1830000.0      р-н Дзержинский      2    32.0   \n",
       "\n",
       "      number of storeys  \n",
       "0                    25  \n",
       "1                    16  \n",
       "2                     4  \n",
       "3                    17  \n",
       "4                     5  \n",
       "...                 ...  \n",
       "2765                 25  \n",
       "2766                 17  \n",
       "2767                 10  \n",
       "2768                 18  \n",
       "2769                  4  \n",
       "\n",
       "[2770 rows x 6 columns]"
      ]
     },
     "execution_count": 157,
     "metadata": {},
     "output_type": "execute_result"
    }
   ],
   "source": [
    "apart['floor'] = apart['floor'].str.replace(' эт.', '')\n",
    "floor = apart['floor'].str.split('/', expand=True)\n",
    "apart['floor'] = floor.loc[:,0].astype(int)\n",
    "apart['number of storeys'] = floor.loc[:,1].astype(int)\n",
    "apart"
   ]
  },
  {
   "cell_type": "code",
   "execution_count": 158,
   "metadata": {},
   "outputs": [
    {
     "data": {
      "text/html": [
       "<div>\n",
       "<style scoped>\n",
       "    .dataframe tbody tr th:only-of-type {\n",
       "        vertical-align: middle;\n",
       "    }\n",
       "\n",
       "    .dataframe tbody tr th {\n",
       "        vertical-align: top;\n",
       "    }\n",
       "\n",
       "    .dataframe thead th {\n",
       "        text-align: right;\n",
       "    }\n",
       "</style>\n",
       "<table border=\"1\" class=\"dataframe\">\n",
       "  <thead>\n",
       "    <tr style=\"text-align: right;\">\n",
       "      <th></th>\n",
       "      <th>room</th>\n",
       "      <th>price</th>\n",
       "      <th>district</th>\n",
       "      <th>floor</th>\n",
       "      <th>square</th>\n",
       "      <th>number of storeys</th>\n",
       "    </tr>\n",
       "  </thead>\n",
       "  <tbody>\n",
       "    <tr>\n",
       "      <th>648</th>\n",
       "      <td>1-к квартира</td>\n",
       "      <td>400000.0</td>\n",
       "      <td>р-н Мотовилихинский</td>\n",
       "      <td>1</td>\n",
       "      <td>40.0</td>\n",
       "      <td>2</td>\n",
       "    </tr>\n",
       "    <tr>\n",
       "      <th>195</th>\n",
       "      <td>1-к квартира</td>\n",
       "      <td>555000.0</td>\n",
       "      <td>р-н Свердловский</td>\n",
       "      <td>1</td>\n",
       "      <td>17.0</td>\n",
       "      <td>5</td>\n",
       "    </tr>\n",
       "    <tr>\n",
       "      <th>2518</th>\n",
       "      <td>Студия</td>\n",
       "      <td>590000.0</td>\n",
       "      <td>р-н Свердловский</td>\n",
       "      <td>1</td>\n",
       "      <td>18.0</td>\n",
       "      <td>5</td>\n",
       "    </tr>\n",
       "    <tr>\n",
       "      <th>93</th>\n",
       "      <td>1-к квартира</td>\n",
       "      <td>670000.0</td>\n",
       "      <td>р-н Кировский</td>\n",
       "      <td>2</td>\n",
       "      <td>14.0</td>\n",
       "      <td>5</td>\n",
       "    </tr>\n",
       "    <tr>\n",
       "      <th>1058</th>\n",
       "      <td>1-к квартира</td>\n",
       "      <td>680000.0</td>\n",
       "      <td>р-н Орджоникидзевский</td>\n",
       "      <td>4</td>\n",
       "      <td>17.8</td>\n",
       "      <td>5</td>\n",
       "    </tr>\n",
       "  </tbody>\n",
       "</table>\n",
       "</div>"
      ],
      "text/plain": [
       "              room     price               district  floor  square  \\\n",
       "648   1-к квартира  400000.0    р-н Мотовилихинский      1    40.0   \n",
       "195   1-к квартира  555000.0       р-н Свердловский      1    17.0   \n",
       "2518        Студия  590000.0       р-н Свердловский      1    18.0   \n",
       "93    1-к квартира  670000.0          р-н Кировский      2    14.0   \n",
       "1058  1-к квартира  680000.0  р-н Орджоникидзевский      4    17.8   \n",
       "\n",
       "      number of storeys  \n",
       "648                   2  \n",
       "195                   5  \n",
       "2518                  5  \n",
       "93                    5  \n",
       "1058                  5  "
      ]
     },
     "execution_count": 158,
     "metadata": {},
     "output_type": "execute_result"
    }
   ],
   "source": [
    "# топ-5 самых дешевых квартир\n",
    "\n",
    "apart.sort_values(by='price').head(5)"
   ]
  },
  {
   "cell_type": "code",
   "execution_count": 159,
   "metadata": {},
   "outputs": [
    {
     "data": {
      "text/html": [
       "<div>\n",
       "<style scoped>\n",
       "    .dataframe tbody tr th:only-of-type {\n",
       "        vertical-align: middle;\n",
       "    }\n",
       "\n",
       "    .dataframe tbody tr th {\n",
       "        vertical-align: top;\n",
       "    }\n",
       "\n",
       "    .dataframe thead th {\n",
       "        text-align: right;\n",
       "    }\n",
       "</style>\n",
       "<table border=\"1\" class=\"dataframe\">\n",
       "  <thead>\n",
       "    <tr style=\"text-align: right;\">\n",
       "      <th></th>\n",
       "      <th>room</th>\n",
       "      <th>price</th>\n",
       "      <th>district</th>\n",
       "      <th>floor</th>\n",
       "      <th>square</th>\n",
       "      <th>number of storeys</th>\n",
       "    </tr>\n",
       "  </thead>\n",
       "  <tbody>\n",
       "    <tr>\n",
       "      <th>2064</th>\n",
       "      <td>6-к квартира</td>\n",
       "      <td>73000000.0</td>\n",
       "      <td>р-н Ленинский</td>\n",
       "      <td>18</td>\n",
       "      <td>280.0</td>\n",
       "      <td>18</td>\n",
       "    </tr>\n",
       "    <tr>\n",
       "      <th>2477</th>\n",
       "      <td>4-к квартира</td>\n",
       "      <td>24000000.0</td>\n",
       "      <td>р-н Свердловский</td>\n",
       "      <td>7</td>\n",
       "      <td>220.0</td>\n",
       "      <td>11</td>\n",
       "    </tr>\n",
       "    <tr>\n",
       "      <th>1931</th>\n",
       "      <td>6-к квартира</td>\n",
       "      <td>23000000.0</td>\n",
       "      <td>р-н Свердловский</td>\n",
       "      <td>15</td>\n",
       "      <td>279.1</td>\n",
       "      <td>16</td>\n",
       "    </tr>\n",
       "    <tr>\n",
       "      <th>104</th>\n",
       "      <td>5-к квартира</td>\n",
       "      <td>22000000.0</td>\n",
       "      <td>р-н Свердловский</td>\n",
       "      <td>6</td>\n",
       "      <td>200.0</td>\n",
       "      <td>6</td>\n",
       "    </tr>\n",
       "    <tr>\n",
       "      <th>481</th>\n",
       "      <td>4-к квартира</td>\n",
       "      <td>19500000.0</td>\n",
       "      <td>р-н Свердловский</td>\n",
       "      <td>2</td>\n",
       "      <td>192.0</td>\n",
       "      <td>8</td>\n",
       "    </tr>\n",
       "  </tbody>\n",
       "</table>\n",
       "</div>"
      ],
      "text/plain": [
       "              room       price          district  floor  square  \\\n",
       "2064  6-к квартира  73000000.0     р-н Ленинский     18   280.0   \n",
       "2477  4-к квартира  24000000.0  р-н Свердловский      7   220.0   \n",
       "1931  6-к квартира  23000000.0  р-н Свердловский     15   279.1   \n",
       "104   5-к квартира  22000000.0  р-н Свердловский      6   200.0   \n",
       "481   4-к квартира  19500000.0  р-н Свердловский      2   192.0   \n",
       "\n",
       "      number of storeys  \n",
       "2064                 18  \n",
       "2477                 11  \n",
       "1931                 16  \n",
       "104                   6  \n",
       "481                   8  "
      ]
     },
     "execution_count": 159,
     "metadata": {},
     "output_type": "execute_result"
    }
   ],
   "source": [
    "# топ-5 самых дорогих квартир\n",
    "\n",
    "apart.sort_values(by='price', ascending=False).head(5)"
   ]
  },
  {
   "cell_type": "code",
   "execution_count": 166,
   "metadata": {},
   "outputs": [
    {
     "data": {
      "text/html": [
       "<div>\n",
       "<style scoped>\n",
       "    .dataframe tbody tr th:only-of-type {\n",
       "        vertical-align: middle;\n",
       "    }\n",
       "\n",
       "    .dataframe tbody tr th {\n",
       "        vertical-align: top;\n",
       "    }\n",
       "\n",
       "    .dataframe thead th {\n",
       "        text-align: right;\n",
       "    }\n",
       "</style>\n",
       "<table border=\"1\" class=\"dataframe\">\n",
       "  <thead>\n",
       "    <tr style=\"text-align: right;\">\n",
       "      <th></th>\n",
       "      <th>count</th>\n",
       "      <th>mean_price</th>\n",
       "    </tr>\n",
       "    <tr>\n",
       "      <th>district</th>\n",
       "      <th></th>\n",
       "      <th></th>\n",
       "    </tr>\n",
       "  </thead>\n",
       "  <tbody>\n",
       "    <tr>\n",
       "      <th>р-н Ленинский</th>\n",
       "      <td>173</td>\n",
       "      <td>6334847.0</td>\n",
       "    </tr>\n",
       "    <tr>\n",
       "      <th>Пермь</th>\n",
       "      <td>3</td>\n",
       "      <td>5106701.0</td>\n",
       "    </tr>\n",
       "    <tr>\n",
       "      <th>р-н Свердловский</th>\n",
       "      <td>671</td>\n",
       "      <td>3964375.0</td>\n",
       "    </tr>\n",
       "    <tr>\n",
       "      <th>р-н Дзержинский</th>\n",
       "      <td>472</td>\n",
       "      <td>3800839.0</td>\n",
       "    </tr>\n",
       "    <tr>\n",
       "      <th>р-н Индустриальный</th>\n",
       "      <td>402</td>\n",
       "      <td>3452171.0</td>\n",
       "    </tr>\n",
       "    <tr>\n",
       "      <th>р-н Мотовилихинский</th>\n",
       "      <td>505</td>\n",
       "      <td>3207964.0</td>\n",
       "    </tr>\n",
       "    <tr>\n",
       "      <th>р-н Кировский</th>\n",
       "      <td>272</td>\n",
       "      <td>2441593.0</td>\n",
       "    </tr>\n",
       "    <tr>\n",
       "      <th>р-н Орджоникидзевский</th>\n",
       "      <td>272</td>\n",
       "      <td>2220120.0</td>\n",
       "    </tr>\n",
       "  </tbody>\n",
       "</table>\n",
       "</div>"
      ],
      "text/plain": [
       "                       count  mean_price\n",
       "district                                \n",
       "р-н Ленинский            173   6334847.0\n",
       "Пермь                      3   5106701.0\n",
       "р-н Свердловский         671   3964375.0\n",
       "р-н Дзержинский          472   3800839.0\n",
       "р-н Индустриальный       402   3452171.0\n",
       "р-н Мотовилихинский      505   3207964.0\n",
       "р-н Кировский            272   2441593.0\n",
       "р-н Орджоникидзевский    272   2220120.0"
      ]
     },
     "execution_count": 166,
     "metadata": {},
     "output_type": "execute_result"
    }
   ],
   "source": [
    "#Разделить квартиры на группы по районам. \n",
    "# Рассчитать кол-во квартир и среднюю цену в каждой группе. \n",
    "# Оценить, где самые дорогие/дешевые квартиры.\n",
    "\n",
    "apart.groupby('district') \\\n",
    "    .agg({'room': 'count', 'price':'mean'}) \\\n",
    "    .sort_values(by='price', ascending=False) \\\n",
    "    .rename(columns={'room':'count', 'price':'mean_price'}).round(0)"
   ]
  },
  {
   "cell_type": "code",
   "execution_count": 167,
   "metadata": {},
   "outputs": [
    {
     "data": {
      "text/html": [
       "<div>\n",
       "<style scoped>\n",
       "    .dataframe tbody tr th:only-of-type {\n",
       "        vertical-align: middle;\n",
       "    }\n",
       "\n",
       "    .dataframe tbody tr th {\n",
       "        vertical-align: top;\n",
       "    }\n",
       "\n",
       "    .dataframe thead th {\n",
       "        text-align: right;\n",
       "    }\n",
       "</style>\n",
       "<table border=\"1\" class=\"dataframe\">\n",
       "  <thead>\n",
       "    <tr style=\"text-align: right;\">\n",
       "      <th></th>\n",
       "      <th>count</th>\n",
       "      <th>mean_price</th>\n",
       "    </tr>\n",
       "    <tr>\n",
       "      <th>room</th>\n",
       "      <th></th>\n",
       "      <th></th>\n",
       "    </tr>\n",
       "  </thead>\n",
       "  <tbody>\n",
       "    <tr>\n",
       "      <th>6-к квартира</th>\n",
       "      <td>6</td>\n",
       "      <td>23616667.0</td>\n",
       "    </tr>\n",
       "    <tr>\n",
       "      <th>5-к квартира</th>\n",
       "      <td>11</td>\n",
       "      <td>9545006.0</td>\n",
       "    </tr>\n",
       "    <tr>\n",
       "      <th>4-к апартаменты</th>\n",
       "      <td>2</td>\n",
       "      <td>9440000.0</td>\n",
       "    </tr>\n",
       "    <tr>\n",
       "      <th>3-к апартаменты</th>\n",
       "      <td>9</td>\n",
       "      <td>7990000.0</td>\n",
       "    </tr>\n",
       "    <tr>\n",
       "      <th>Своб. планировка</th>\n",
       "      <td>15</td>\n",
       "      <td>7390733.0</td>\n",
       "    </tr>\n",
       "    <tr>\n",
       "      <th>4-к квартира</th>\n",
       "      <td>127</td>\n",
       "      <td>6693080.0</td>\n",
       "    </tr>\n",
       "    <tr>\n",
       "      <th>3-к квартира</th>\n",
       "      <td>698</td>\n",
       "      <td>4491025.0</td>\n",
       "    </tr>\n",
       "    <tr>\n",
       "      <th>2-к квартира</th>\n",
       "      <td>1003</td>\n",
       "      <td>3291846.0</td>\n",
       "    </tr>\n",
       "    <tr>\n",
       "      <th>9-к квартира</th>\n",
       "      <td>1</td>\n",
       "      <td>3235410.0</td>\n",
       "    </tr>\n",
       "    <tr>\n",
       "      <th>2-к апартаменты</th>\n",
       "      <td>3</td>\n",
       "      <td>2481000.0</td>\n",
       "    </tr>\n",
       "    <tr>\n",
       "      <th>1-к квартира</th>\n",
       "      <td>765</td>\n",
       "      <td>2369151.0</td>\n",
       "    </tr>\n",
       "    <tr>\n",
       "      <th>Квартира-студия</th>\n",
       "      <td>109</td>\n",
       "      <td>2266970.0</td>\n",
       "    </tr>\n",
       "    <tr>\n",
       "      <th>1-к апартаменты</th>\n",
       "      <td>4</td>\n",
       "      <td>2042500.0</td>\n",
       "    </tr>\n",
       "    <tr>\n",
       "      <th>Апартаменты-студия</th>\n",
       "      <td>11</td>\n",
       "      <td>1824909.0</td>\n",
       "    </tr>\n",
       "    <tr>\n",
       "      <th>Студия</th>\n",
       "      <td>6</td>\n",
       "      <td>1312500.0</td>\n",
       "    </tr>\n",
       "  </tbody>\n",
       "</table>\n",
       "</div>"
      ],
      "text/plain": [
       "                    count  mean_price\n",
       "room                                 \n",
       "6-к квартира            6  23616667.0\n",
       "5-к квартира           11   9545006.0\n",
       "4-к апартаменты         2   9440000.0\n",
       "3-к апартаменты         9   7990000.0\n",
       "Своб. планировка       15   7390733.0\n",
       "4-к квартира          127   6693080.0\n",
       "3-к квартира          698   4491025.0\n",
       "2-к квартира         1003   3291846.0\n",
       "9-к квартира            1   3235410.0\n",
       "2-к апартаменты         3   2481000.0\n",
       "1-к квартира          765   2369151.0\n",
       "Квартира-студия       109   2266970.0\n",
       "1-к апартаменты         4   2042500.0\n",
       "Апартаменты-студия     11   1824909.0\n",
       "Студия                  6   1312500.0"
      ]
     },
     "execution_count": 167,
     "metadata": {},
     "output_type": "execute_result"
    }
   ],
   "source": [
    "# Разделить квартиры на группы по кол-ву комнат. \n",
    "# Рассчитать кол-во квартир и среднюю цену в каждой группе. \n",
    "# Оценить, где самые дорогие/дешевые квартиры.\n",
    "\n",
    "apart.groupby('room') \\\n",
    "    .agg({'room': 'count', 'price':'mean'}) \\\n",
    "    .sort_values(by='price', ascending=False) \\\n",
    "    .rename(columns={'room':'count', 'price':'mean_price'}).round(0)"
   ]
  },
  {
   "cell_type": "code",
   "execution_count": 171,
   "metadata": {},
   "outputs": [
    {
     "data": {
      "text/html": [
       "<div>\n",
       "<style scoped>\n",
       "    .dataframe tbody tr th:only-of-type {\n",
       "        vertical-align: middle;\n",
       "    }\n",
       "\n",
       "    .dataframe tbody tr th {\n",
       "        vertical-align: top;\n",
       "    }\n",
       "\n",
       "    .dataframe thead th {\n",
       "        text-align: right;\n",
       "    }\n",
       "</style>\n",
       "<table border=\"1\" class=\"dataframe\">\n",
       "  <thead>\n",
       "    <tr style=\"text-align: right;\">\n",
       "      <th></th>\n",
       "      <th>count</th>\n",
       "      <th>mean_price</th>\n",
       "    </tr>\n",
       "    <tr>\n",
       "      <th>floor</th>\n",
       "      <th></th>\n",
       "      <th></th>\n",
       "    </tr>\n",
       "  </thead>\n",
       "  <tbody>\n",
       "    <tr>\n",
       "      <th>18</th>\n",
       "      <td>17</td>\n",
       "      <td>8831765.0</td>\n",
       "    </tr>\n",
       "    <tr>\n",
       "      <th>19</th>\n",
       "      <td>23</td>\n",
       "      <td>6574377.0</td>\n",
       "    </tr>\n",
       "    <tr>\n",
       "      <th>20</th>\n",
       "      <td>16</td>\n",
       "      <td>5781549.0</td>\n",
       "    </tr>\n",
       "    <tr>\n",
       "      <th>22</th>\n",
       "      <td>5</td>\n",
       "      <td>5763704.0</td>\n",
       "    </tr>\n",
       "    <tr>\n",
       "      <th>25</th>\n",
       "      <td>10</td>\n",
       "      <td>5758251.0</td>\n",
       "    </tr>\n",
       "    <tr>\n",
       "      <th>17</th>\n",
       "      <td>15</td>\n",
       "      <td>5518420.0</td>\n",
       "    </tr>\n",
       "    <tr>\n",
       "      <th>13</th>\n",
       "      <td>50</td>\n",
       "      <td>5123444.0</td>\n",
       "    </tr>\n",
       "    <tr>\n",
       "      <th>11</th>\n",
       "      <td>53</td>\n",
       "      <td>4776172.0</td>\n",
       "    </tr>\n",
       "    <tr>\n",
       "      <th>23</th>\n",
       "      <td>4</td>\n",
       "      <td>4674880.0</td>\n",
       "    </tr>\n",
       "    <tr>\n",
       "      <th>12</th>\n",
       "      <td>48</td>\n",
       "      <td>4664680.0</td>\n",
       "    </tr>\n",
       "    <tr>\n",
       "      <th>15</th>\n",
       "      <td>42</td>\n",
       "      <td>4653733.0</td>\n",
       "    </tr>\n",
       "    <tr>\n",
       "      <th>14</th>\n",
       "      <td>52</td>\n",
       "      <td>4397802.0</td>\n",
       "    </tr>\n",
       "    <tr>\n",
       "      <th>6</th>\n",
       "      <td>141</td>\n",
       "      <td>4199658.0</td>\n",
       "    </tr>\n",
       "    <tr>\n",
       "      <th>7</th>\n",
       "      <td>128</td>\n",
       "      <td>4189578.0</td>\n",
       "    </tr>\n",
       "    <tr>\n",
       "      <th>10</th>\n",
       "      <td>103</td>\n",
       "      <td>4157396.0</td>\n",
       "    </tr>\n",
       "    <tr>\n",
       "      <th>16</th>\n",
       "      <td>67</td>\n",
       "      <td>4034927.0</td>\n",
       "    </tr>\n",
       "    <tr>\n",
       "      <th>24</th>\n",
       "      <td>7</td>\n",
       "      <td>4016457.0</td>\n",
       "    </tr>\n",
       "    <tr>\n",
       "      <th>21</th>\n",
       "      <td>9</td>\n",
       "      <td>3785111.0</td>\n",
       "    </tr>\n",
       "    <tr>\n",
       "      <th>9</th>\n",
       "      <td>147</td>\n",
       "      <td>3739238.0</td>\n",
       "    </tr>\n",
       "    <tr>\n",
       "      <th>8</th>\n",
       "      <td>108</td>\n",
       "      <td>3648430.0</td>\n",
       "    </tr>\n",
       "    <tr>\n",
       "      <th>2</th>\n",
       "      <td>376</td>\n",
       "      <td>3403506.0</td>\n",
       "    </tr>\n",
       "    <tr>\n",
       "      <th>3</th>\n",
       "      <td>327</td>\n",
       "      <td>3260037.0</td>\n",
       "    </tr>\n",
       "    <tr>\n",
       "      <th>4</th>\n",
       "      <td>326</td>\n",
       "      <td>3143993.0</td>\n",
       "    </tr>\n",
       "    <tr>\n",
       "      <th>5</th>\n",
       "      <td>354</td>\n",
       "      <td>3039872.0</td>\n",
       "    </tr>\n",
       "    <tr>\n",
       "      <th>1</th>\n",
       "      <td>342</td>\n",
       "      <td>2404608.0</td>\n",
       "    </tr>\n",
       "  </tbody>\n",
       "</table>\n",
       "</div>"
      ],
      "text/plain": [
       "       count  mean_price\n",
       "floor                   \n",
       "18        17   8831765.0\n",
       "19        23   6574377.0\n",
       "20        16   5781549.0\n",
       "22         5   5763704.0\n",
       "25        10   5758251.0\n",
       "17        15   5518420.0\n",
       "13        50   5123444.0\n",
       "11        53   4776172.0\n",
       "23         4   4674880.0\n",
       "12        48   4664680.0\n",
       "15        42   4653733.0\n",
       "14        52   4397802.0\n",
       "6        141   4199658.0\n",
       "7        128   4189578.0\n",
       "10       103   4157396.0\n",
       "16        67   4034927.0\n",
       "24         7   4016457.0\n",
       "21         9   3785111.0\n",
       "9        147   3739238.0\n",
       "8        108   3648430.0\n",
       "2        376   3403506.0\n",
       "3        327   3260037.0\n",
       "4        326   3143993.0\n",
       "5        354   3039872.0\n",
       "1        342   2404608.0"
      ]
     },
     "execution_count": 171,
     "metadata": {},
     "output_type": "execute_result"
    }
   ],
   "source": [
    "# Разделить квартиры на группы по этажам. \n",
    "# Рассчитать кол-во квартир и среднюю цену в каждой группе. \n",
    "# Оценить, где самые дорогие/дешевые квартиры.\n",
    "\n",
    "apart.groupby('floor') \\\n",
    "    .agg({'room': 'count', 'price':'mean'}) \\\n",
    "    .sort_values(by='price', ascending=False) \\\n",
    "    .rename(columns={'room':'count', 'price':'mean_price'}).round(0)"
   ]
  },
  {
   "cell_type": "code",
   "execution_count": 172,
   "metadata": {},
   "outputs": [
    {
     "data": {
      "text/plain": [
       "<matplotlib.axes._subplots.AxesSubplot at 0x28694deeb80>"
      ]
     },
     "execution_count": 172,
     "metadata": {},
     "output_type": "execute_result"
    },
    {
     "data": {
      "image/png": "[encoded data removed]",
      "text/plain": [
       "<Figure size 432x288 with 1 Axes>"
      ]
     },
     "metadata": {
      "needs_background": "light"
     },
     "output_type": "display_data"
    }
   ],
   "source": [
    "# Построить гистограмму по районам\n",
    "\n",
    "apart['district'].value_counts().plot(kind='bar')"
   ]
  },
  {
   "cell_type": "code",
   "execution_count": 191,
   "metadata": {},
   "outputs": [
    {
     "data": {
      "text/plain": [
       "0    р-н Свердловский\n",
       "dtype: object"
      ]
     },
     "execution_count": 191,
     "metadata": {},
     "output_type": "execute_result"
    }
   ],
   "source": [
    "# самая популярный район\n",
    "apart['district'].mode()"
   ]
  },
  {
   "cell_type": "code",
   "execution_count": 197,
   "metadata": {},
   "outputs": [
    {
     "data": {
      "text/plain": [
       "<matplotlib.axes._subplots.AxesSubplot at 0x28693d3e190>"
      ]
     },
     "execution_count": 197,
     "metadata": {},
     "output_type": "execute_result"
    },
    {
     "data": {
      "image/png": "[encoded data removed]",
      "text/plain": [
       "<Figure size 432x288 with 1 Axes>"
      ]
     },
     "metadata": {
      "needs_background": "light"
     },
     "output_type": "display_data"
    }
   ],
   "source": [
    "apart['room'].value_counts().plot(kind='bar')"
   ]
  },
  {
   "cell_type": "code",
   "execution_count": 176,
   "metadata": {},
   "outputs": [
    {
     "data": {
      "text/plain": [
       "<matplotlib.axes._subplots.AxesSubplot at 0x286953a6700>"
      ]
     },
     "execution_count": 176,
     "metadata": {},
     "output_type": "execute_result"
    },
    {
     "data": {
      "image/png": "[encoded data removed]",
      "text/plain": [
       "<Figure size 432x288 with 1 Axes>"
      ]
     },
     "metadata": {
      "needs_background": "light"
     },
     "output_type": "display_data"
    }
   ],
   "source": [
    "apart['price'].hist(bins=30)"
   ]
  },
  {
   "cell_type": "code",
   "execution_count": 196,
   "metadata": {},
   "outputs": [
    {
     "data": {
      "text/plain": [
       "<matplotlib.axes._subplots.AxesSubplot at 0x286939f1ee0>"
      ]
     },
     "execution_count": 196,
     "metadata": {},
     "output_type": "execute_result"
    },
    {
     "data": {
      "image/png": "[encoded data removed]",
      "text/plain": [
       "<Figure size 432x288 with 1 Axes>"
      ]
     },
     "metadata": {
      "needs_background": "light"
     },
     "output_type": "display_data"
    }
   ],
   "source": [
    "apart['square'].hist(bins=30)"
   ]
  },
  {
   "cell_type": "code",
   "execution_count": 193,
   "metadata": {},
   "outputs": [
    {
     "data": {
      "text/plain": [
       "<matplotlib.axes._subplots.AxesSubplot at 0x28694a317f0>"
      ]
     },
     "execution_count": 193,
     "metadata": {},
     "output_type": "execute_result"
    },
    {
     "data": {
      "image/png": "[encoded data removed]",
      "text/plain": [
       "<Figure size 432x288 with 1 Axes>"
      ]
     },
     "metadata": {
      "needs_background": "light"
     },
     "output_type": "display_data"
    }
   ],
   "source": [
    "# ящик с усами по площади\n",
    "apart.boxplot('square')"
   ]
  },
  {
   "cell_type": "code",
   "execution_count": 194,
   "metadata": {},
   "outputs": [
    {
     "data": {
      "text/plain": [
       "<matplotlib.axes._subplots.AxesSubplot at 0x286941e5760>"
      ]
     },
     "execution_count": 194,
     "metadata": {},
     "output_type": "execute_result"
    },
    {
     "data": {
      "image/png": "[encoded data removed]",
      "text/plain": [
       "<Figure size 432x288 with 1 Axes>"
      ]
     },
     "metadata": {
      "needs_background": "light"
     },
     "output_type": "display_data"
    }
   ],
   "source": [
    "# ящик с усами по цене\n",
    "apart.boxplot('price')\n"
   ]
  },
  {
   "cell_type": "code",
   "execution_count": 195,
   "metadata": {},
   "outputs": [
    {
     "data": {
      "text/plain": [
       "<matplotlib.axes._subplots.AxesSubplot at 0x286937e4f70>"
      ]
     },
     "execution_count": 195,
     "metadata": {},
     "output_type": "execute_result"
    },
    {
     "data": {
      "image/png": "[encoded data removed]",
      "text/plain": [
       "<Figure size 432x288 with 1 Axes>"
      ]
     },
     "metadata": {
      "needs_background": "light"
     },
     "output_type": "display_data"
    }
   ],
   "source": [
    "# ящик с усами по этажам\n",
    "apart.boxplot('floor')\n"
   ]
  },
  {
   "cell_type": "code",
   "execution_count": 199,
   "metadata": {},
   "outputs": [
    {
     "name": "stdout",
     "output_type": "stream",
     "text": [
      "Populating the interactive namespace from numpy and matplotlib\n"
     ]
    },
    {
     "data": {
      "image/png": "[encoded data removed]",
      "text/plain": [
       "<Figure size 720x720 with 1 Axes>"
      ]
     },
     "metadata": {
      "needs_background": "light"
     },
     "output_type": "display_data"
    }
   ],
   "source": [
    "%pylab inline\n",
    "import matplotlib.pyplot as plt\n",
    "\n",
    "apart.boxplot(column='price',  by='district', figsize=(10,10))\n",
    "plt.show()"
   ]
  },
  {
   "cell_type": "code",
   "execution_count": 200,
   "metadata": {},
   "outputs": [
    {
     "data": {
      "image/png": "[encoded data removed]",
      "text/plain": [
       "<Figure size 720x720 with 1 Axes>"
      ]
     },
     "metadata": {
      "needs_background": "light"
     },
     "output_type": "display_data"
    }
   ],
   "source": [
    "apart.boxplot(column='square',  by='district', figsize=(10,10))\n",
    "plt.show()"
   ]
  },
  {
   "cell_type": "code",
   "execution_count": null,
   "metadata": {},
   "outputs": [],
   "source": []
  },
  {
   "cell_type": "code",
   "execution_count": null,
   "metadata": {},
   "outputs": [],
   "source": []
  }
 ],
 "metadata": {
  "kernelspec": {
   "display_name": "Python 3",
   "language": "python",
   "name": "python3"
  },
  "language_info": {
   "codemirror_mode": {
    "name": "ipython",
    "version": 3
   },
   "file_extension": ".py",
   "mimetype": "text/x-python",
   "name": "python",
   "nbconvert_exporter": "python",
   "pygments_lexer": "ipython3",
   "version": "3.8.3"
  }
 },
 "nbformat": 4,
 "nbformat_minor": 4
}
